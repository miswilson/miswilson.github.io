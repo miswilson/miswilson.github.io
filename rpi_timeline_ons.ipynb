{
 "cells": [
  {
   "cell_type": "code",
   "execution_count": null,
   "metadata": {},
   "outputs": [],
   "source": [
    "https://www.ons.gov.uk/economy/inflationandpriceindices/timeseries/cdko/mm23/data\n",
    "# continuous index"
   ]
  },
  {
   "cell_type": "code",
   "execution_count": 4,
   "metadata": {},
   "outputs": [
    {
     "name": "stdout",
     "output_type": "stream",
     "text": [
      "Cleaned file saved as cleaned_rpi_uk.csv\n",
      "cleaned_rpi_uk.csv\n"
     ]
    }
   ],
   "source": [
    "import pandas as pd\n",
    "\n",
    "# Load the CSV, skipping unnecessary header rows\n",
    "url = \"https://raw.githubusercontent.com/miswilson/miswilson.github.io/refs/heads/main/series-211124.csv\"\n",
    "\n",
    "# Skip the top rows and keep the actual data (assuming data starts at row 8 for example)\n",
    "data = pd.read_csv(url, skiprows=7)\n",
    "\n",
    "cleaned_file = \"cleaned_rpi_uk.csv\"\n",
    "data.to_csv(cleaned_file, index=False)\n",
    "\n",
    "print(f\"Cleaned file saved as {cleaned_file}\")\n",
    "print(cleaned_file)\n"
   ]
  },
  {
   "cell_type": "code",
   "execution_count": 5,
   "metadata": {},
   "outputs": [
    {
     "name": "stdout",
     "output_type": "stream",
     "text": [
      "Cleaned file saved as cleaned_rpi_uk.csv\n",
      "cleaned_rpi_uk.csv\n"
     ]
    }
   ],
   "source": [
    "import pandas as pd\n",
    "\n",
    "url = \"https://raw.githubusercontent.com/miswilson/miswilson.github.io/refs/heads/main/series-211124.csv\"\n",
    "\n",
    "# Skip the metadata rows and load the actual data\n",
    "data = pd.read_csv(url, skiprows=7)\n",
    "\n",
    "# Rename the columns to 'year' and 'unit'\n",
    "data.columns = [\"year\", \"unit\"]\n",
    "\n",
    "cleaned_file = \"cleaned_rpi_uk.csv\"\n",
    "data.to_csv(cleaned_file, index=False)\n",
    "\n",
    "print(f\"Cleaned file saved as {cleaned_file}\")\n",
    "print(cleaned_file)\n"
   ]
  },
  {
   "cell_type": "code",
   "execution_count": 11,
   "metadata": {},
   "outputs": [
    {
     "name": "stdout",
     "output_type": "stream",
     "text": [
      "     year  unit\n",
      "100  1900   5.1\n",
      "101  1901   0.5\n",
      "102  1902   0.0\n",
      "103  1903   0.4\n",
      "104  1904  -0.2\n",
      "Cleaned file saved as cleaned_rpi_uk.csv\n"
     ]
    }
   ],
   "source": [
    "cleaned_file = data[data['year'] >= 1900]\n",
    "\n",
    "# Display the first few rows of the filtered data\n",
    "print(cleaned_file.head())\n",
    "cleaned_file = \"cleaned_rpi_uk.csv\"\n",
    "data.to_csv(cleaned_file, index=False)\n",
    "\n",
    "print(f\"Cleaned file saved as {cleaned_file}\")\n"
   ]
  },
  {
   "cell_type": "code",
   "execution_count": 15,
   "metadata": {},
   "outputs": [
    {
     "name": "stdout",
     "output_type": "stream",
     "text": [
      "     year  unit\n",
      "100  1900   5.1\n",
      "101  1901   0.5\n",
      "102  1902   0.0\n",
      "103  1903   0.4\n",
      "104  1904  -0.2\n"
     ]
    }
   ],
   "source": [
    "import pandas as pd\n",
    "\n",
    "\n",
    "url = \"https://raw.githubusercontent.com/miswilson/miswilson.github.io/main/cleaned_rpi_uk.csv\"\n",
    "data = pd.read_csv(url)\n",
    "\n",
    "# Filter data to only include rows from 1900 onwards\n",
    "filtered_data = data[data['year'] >= 1900]\n",
    "\n",
    "filtered_data.to_csv(\"rpi_uk_1900.csv\", index=False)\n",
    "\n",
    "# Verify\n",
    "print(filtered_data.head())\n"
   ]
  },
  {
   "cell_type": "code",
   "execution_count": null,
   "metadata": {},
   "outputs": [],
   "source": [
    "https://www.ons.gov.uk/economy/inflationandpriceindices/timeseries/cdsi/mm23/data\n",
    "# anual percentage change"
   ]
  },
  {
   "cell_type": "code",
   "execution_count": null,
   "metadata": {},
   "outputs": [],
   "source": [
    "# monthly consumer price index USA\n",
    "https://fred.stlouisfed.org/series/CPIAUCNS #make raw and calculate anual percentage change as another column for every new obersavation per year calculate percentage change (annual 12 mon th inflaton rate)\n",
    "https://raw.githubusercontent.com/miswilson/miswilson.github.io/refs/heads/main/CPIAUCNS.csv"
   ]
  }
 ],
 "metadata": {
  "kernelspec": {
   "display_name": "base",
   "language": "python",
   "name": "python3"
  },
  "language_info": {
   "codemirror_mode": {
    "name": "ipython",
    "version": 3
   },
   "file_extension": ".py",
   "mimetype": "text/x-python",
   "name": "python",
   "nbconvert_exporter": "python",
   "pygments_lexer": "ipython3",
   "version": "3.12.2"
  }
 },
 "nbformat": 4,
 "nbformat_minor": 2
}
