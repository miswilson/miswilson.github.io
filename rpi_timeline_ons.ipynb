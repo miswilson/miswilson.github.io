{
 "cells": [
  {
   "cell_type": "code",
   "execution_count": null,
   "metadata": {
    "vscode": {
     "languageId": "plaintext"
    }
   },
   "outputs": [],
   "source": [
    "https://www.ons.gov.uk/economy/inflationandpriceindices/timeseries/cdko/mm23/data\n",
    "# continuous index"
   ]
  },
  {
   "cell_type": "code",
   "execution_count": null,
   "metadata": {
    "vscode": {
     "languageId": "plaintext"
    }
   },
   "outputs": [],
   "source": [
    "https://www.ons.gov.uk/economy/inflationandpriceindices/timeseries/cdsi/mm23/data\n",
    "# anual percentage change"
   ]
  },
  {
   "cell_type": "code",
   "execution_count": null,
   "metadata": {
    "vscode": {
     "languageId": "plaintext"
    }
   },
   "outputs": [],
   "source": [
    "# monthly consumer price index USA\n",
    "https://fred.stlouisfed.org/series/CPIAUCNS #make raw and calculate anual percentage change as another column for every new obersavation per year calculate percentage change (annual 12 mon th inflaton rate)"
   ]
  }
 ],
 "metadata": {
  "language_info": {
   "name": "python"
  }
 },
 "nbformat": 4,
 "nbformat_minor": 2
}
