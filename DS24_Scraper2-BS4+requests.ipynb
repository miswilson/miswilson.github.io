{
  "nbformat": 4,
  "nbformat_minor": 0,
  "metadata": {
    "colab": {
      "name": "secondScraper.ipynb",
      "provenance": [],
      "collapsed_sections": [],
      "authorship_tag": "ABX9TyMsuT6ai5RIkpcryG05E3TV",
      "include_colab_link": true
    },
    "kernelspec": {
      "name": "python3",
      "display_name": "Python 3"
    },
    "language_info": {
      "name": "python"
    }
  },
  "cells": [
    {
      "cell_type": "markdown",
      "metadata": {
        "id": "view-in-github",
        "colab_type": "text"
      },
      "source": [
        "<a href=\"https://colab.research.google.com/github/RDeconomist/classes/blob/main/secondScraper.ipynb\" target=\"_parent\"><img src=\"https://colab.research.google.com/assets/colab-badge.svg\" alt=\"Open In Colab\"/></a>"
      ]
    },
    {
      "cell_type": "markdown",
      "metadata": {
        "id": "MVfixlVBK5we"
      },
      "source": [
        "**Data Science - second web scraper**\n",
        "\n",
        "Aim of the file:\n",
        "\n",
        "1.   Demo the scraping of four sites.\n",
        "2.   Collect together information. \n",
        "3.   Learn how we find parts of the array we want.\n",
        "4.   Recap using the .text method\n",
        "\n",
        "\n"
      ]
    },
    {
      "cell_type": "code",
      "metadata": {
        "id": "r-JSinApK49d"
      },
      "source": [
        "# ////////////////////////////////////////////////////////////////\n",
        "# // 1.  Import packages that we might need:\n",
        "# // Packages for data manipulation\n",
        "import numpy as np\n",
        "import pandas as pd\n",
        "# // Web scraping: \n",
        "import requests\n",
        "from bs4 import BeautifulSoup\n",
        "# // OS. Sometimes need this for finding working directory:\n",
        "import os\n",
        "# ////////////////////////////////////////////////////////////////\n",
        "# ////////////////////////////////////////////////////////////////"
      ],
      "execution_count": null,
      "outputs": []
    },
    {
      "cell_type": "markdown",
      "metadata": {
        "id": "YH5WjG6IPVr7"
      },
      "source": [
        "Step 2 - Pick the URL we want to scrape and extract the html content"
      ]
    },
    {
      "cell_type": "code",
      "metadata": {
        "id": "Vh8EIq2_PVXs"
      },
      "source": [
        "# /////////////////////////////////////////////////////////////////\n",
        "# /// 2.  Set the URLs ////////////////////////////////////////////\n",
        "\n",
        "URL1 = \"https://www.google.com/finance/quote/RR:LON\"\n",
        "URL2 = \"https://www.premierleague.com/stats/top/players/goals?se=-1\"\n",
        "URL3 = \"https://www.thecompleteuniversityguide.co.uk/league-tables/rankings\"\n",
        "URL4 = \"https://olympics.com/tokyo-2020/olympic-games/en/results/all-sports/medal-standings.htm\"\n",
        "\n",
        "# /// Do the html request:\n",
        "html1 = requests.get(URL1)\n",
        "html2 = requests.get(URL2)\n",
        "html3 = requests.get(URL3)\n",
        "html4 = requests.get(URL4)\n",
        "\n",
        "soup1 = BeautifulSoup(html1.content, 'html.parser')\n",
        "soup2 = BeautifulSoup(html2.content, 'html.parser')\n",
        "soup3 = BeautifulSoup(html3.content, 'html.parser')\n",
        "soup4 = BeautifulSoup(html4.content, 'html.parser')\n",
        "# ////////////////////////////////////////////////////////////////\n",
        "# ////////////////////////////////////////////////////////////////"
      ],
      "execution_count": 49,
      "outputs": []
    },
    {
      "cell_type": "code",
      "metadata": {
        "id": "NFj2wLuCPhZk"
      },
      "source": [
        "company = soup1.find_all(\"h1\")\n",
        "names = soup2.find_all(\"a\", class_=\"playerName\")\n",
        "uni = soup3.find_all(\"a\", class_=\"uni_lnk\")\n",
        "countries = soup4.find_all(\"a\", class_=\"country\")\n"
      ],
      "execution_count": 50,
      "outputs": []
    },
    {
      "cell_type": "code",
      "metadata": {
        "id": "7mnfDDF2tL_M"
      },
      "source": [
        "results = [company, names, uni, countries]\n"
      ],
      "execution_count": 51,
      "outputs": []
    },
    {
      "cell_type": "markdown",
      "metadata": {
        "id": "5og7K_tWuxKL"
      },
      "source": [
        "Check you undertand what these three things do - and have a play with them..."
      ]
    },
    {
      "cell_type": "code",
      "metadata": {
        "id": "4SKnm-E0tWml"
      },
      "source": [
        "results[1]"
      ],
      "execution_count": null,
      "outputs": []
    },
    {
      "cell_type": "code",
      "metadata": {
        "id": "9YFL08ZBthP-"
      },
      "source": [
        "results[1][0]"
      ],
      "execution_count": null,
      "outputs": []
    },
    {
      "cell_type": "code",
      "metadata": {
        "id": "9AEaZ8yjtnvn"
      },
      "source": [
        "results[2][0].text"
      ],
      "execution_count": null,
      "outputs": []
    }
  ]
}
