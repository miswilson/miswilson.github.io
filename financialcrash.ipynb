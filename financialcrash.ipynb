{
 "cells": [
  {
   "cell_type": "code",
   "execution_count": 12,
   "metadata": {},
   "outputs": [],
   "source": [
    "from selenium import webdriver\n",
    "from selenium.webdriver.common.by import By\n",
    "import pandas as pd\n",
    "import time\n",
    "import numpy as np\n",
    "import os"
   ]
  },
  {
   "cell_type": "code",
   "execution_count": 15,
   "metadata": {},
   "outputs": [],
   "source": [
    "driver = webdriver.Chrome()\n",
    "driver.get(\"https://archive.vogue.com/login\")"
   ]
  },
  {
   "cell_type": "code",
   "execution_count": null,
   "metadata": {},
   "outputs": [],
   "source": [
    "start_date = pd.to_datetime(\"1920-01-01\")\n",
    "end_date = pd.to_datetime(\"1930-01-01\")\n",
    "\n",
    "term = [\"mini dress\"]\n",
    "\n",
    "def make_term_search(driver, term, start_date, end_date):\n",
    "    url = f\"https://archive.vogue.com/search?QueryTerm={term}&startDate={start_date}&endDate={end_date}\"\n",
    "    driver.get(url)\n",
    "\n",
    "def get_count(driver):\n",
    "    count_elements = driver.find_elements(By.CLASS_NAME, \"count\")\n",
    "    if not count_elements:\n",
    "        return None\n",
    "    count_text = count_elements[0].text\n",
    "    count = int(count_text.split(\"(\")[1].split(\")\")[0])\n",
    "    return count\n",
    "\n",
    "\n",
    "increment = pd.DateOffset(years=1)\n",
    "results = []\n",
    "current_date = start_date\n",
    "\n",
    "os.makedirs(\"vogue_resource_dump\", exist_ok=True)\n",
    "\n",
    "while current_date < end_date:\n",
    "    next_date = current_date + increment\n",
    "    print(f\"Searching from {current_date} to {next_date}\")\n",
    "\n",
    "    make_term_search(driver, term, current_date.strftime(\"%Y-%m-%d\"), next_date.strftime(\"%Y-%m-%d\"))\n",
    "\n",
    "    count = get_count(driver)\n",
    "    print(f\"{count} results found\")\n",
    "\n",
    "    with open(f\"vogue_resource_dump/{term}_{current_date.strftime('%Y-%m-%d')}_{next_date.strftime('%Y-%m-%d')}.html\", \"w\") as f:\n",
    "        f.write(driver.page_source)\n",
    "\n",
    "    results.append({\n",
    "        \"Term\": term,\n",
    "        \"Start Date\": current_date,\n",
    "        \"End Date\": next_date,\n",
    "        \"Result Count\": count\n",
    "    })\n",
    "\n",
    "    current_date = next_date\n",
    "\n",
    "    # Sleep to avoid detection, ensuring non-negative sleep length\n",
    "    sleep_duration = max(0, np.random.normal(1, 0.5))\n",
    "    time.sleep(sleep_duration)\n",
    "\n",
    "driver.quit()\n",
    "\n",
    "financialcrash = pd.DataFrame(results)\n",
    "print(\"Search Results Summary:\")\n",
    "print(financialcrash)"
   ]
  }
 ],
 "metadata": {
  "kernelspec": {
   "display_name": "base",
   "language": "python",
   "name": "python3"
  },
  "language_info": {
   "codemirror_mode": {
    "name": "ipython",
    "version": 3
   },
   "file_extension": ".py",
   "mimetype": "text/x-python",
   "name": "python",
   "nbconvert_exporter": "python",
   "pygments_lexer": "ipython3",
   "version": "3.12.2"
  }
 },
 "nbformat": 4,
 "nbformat_minor": 2
}
