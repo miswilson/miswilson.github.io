{
 "cells": [
  {
   "cell_type": "code",
   "execution_count": 2,
   "metadata": {},
   "outputs": [],
   "source": [
    "from selenium import webdriver\n",
    "from selenium.webdriver.common.by import By\n",
    "import pandas as pd\n",
    "import time\n",
    "import numpy as np\n",
    "import os"
   ]
  },
  {
   "cell_type": "code",
   "execution_count": 4,
   "metadata": {},
   "outputs": [],
   "source": [
    "import os\n",
    "import time"
   ]
  },
  {
   "cell_type": "code",
   "execution_count": null,
   "metadata": {},
   "outputs": [],
   "source": [
    "driver = webdriver.Chrome()\n",
    "driver.get(\"https://www.english-heritage.org.uk/visit/inspire-me/wartime-wardrobes-1940s-fashion-rationing/\")"
   ]
  },
  {
   "cell_type": "code",
   "execution_count": null,
   "metadata": {},
   "outputs": [],
   "source": [
    "driver = webdriver.Chrome()\n",
    "driver.get(\"https://assets.publishing.service.gov.uk/media/5a7f8e1940f0b62302690313/The_Urban_Working_-_Class_Household_Diet_1940-1949.pdf\")"
   ]
  },
  {
   "cell_type": "code",
   "execution_count": 8,
   "metadata": {},
   "outputs": [
    {
     "name": "stdout",
     "output_type": "stream",
     "text": [
      "Collecting pymupdf\n",
      "  Downloading PyMuPDF-1.24.13-cp39-abi3-macosx_10_9_x86_64.whl.metadata (3.4 kB)\n",
      "Downloading PyMuPDF-1.24.13-cp39-abi3-macosx_10_9_x86_64.whl (19.1 MB)\n",
      "\u001b[2K   \u001b[90m━━━━━━━━━━━━━━━━━━━━━━━━━━━━━━━━━━━━━━━━\u001b[0m \u001b[32m19.1/19.1 MB\u001b[0m \u001b[31m30.4 MB/s\u001b[0m eta \u001b[36m0:00:00\u001b[0ma \u001b[36m0:00:01\u001b[0m\n",
      "\u001b[?25hInstalling collected packages: pymupdf\n",
      "Successfully installed pymupdf-1.24.13\n",
      "Note: you may need to restart the kernel to use updated packages.\n"
     ]
    }
   ],
   "source": [
    "pip install pymupdf"
   ]
  },
  {
   "cell_type": "code",
   "execution_count": 15,
   "metadata": {},
   "outputs": [
    {
     "ename": "NameError",
     "evalue": "name 'url' is not defined",
     "output_type": "error",
     "traceback": [
      "\u001b[0;31m---------------------------------------------------------------------------\u001b[0m",
      "\u001b[0;31mNameError\u001b[0m                                 Traceback (most recent call last)",
      "Cell \u001b[0;32mIn[15], line 21\u001b[0m\n\u001b[1;32m     17\u001b[0m time\u001b[38;5;241m.\u001b[39msleep(\u001b[38;5;241m5\u001b[39m)\n\u001b[1;32m     20\u001b[0m data \u001b[38;5;241m=\u001b[39m []\n\u001b[0;32m---> 21\u001b[0m \u001b[38;5;28;01mfor\u001b[39;00m page_num \u001b[38;5;129;01min\u001b[39;00m \u001b[38;5;28mrange\u001b[39m(\u001b[43murl\u001b[49m\u001b[38;5;241m.\u001b[39mpage_count):\n\u001b[1;32m     22\u001b[0m     page \u001b[38;5;241m=\u001b[39m url[page_num]\n\u001b[1;32m     23\u001b[0m     text \u001b[38;5;241m=\u001b[39m page\u001b[38;5;241m.\u001b[39mget_text()\n",
      "\u001b[0;31mNameError\u001b[0m: name 'url' is not defined"
     ]
    }
   ],
   "source": [
    "from selenium import webdriver\n",
    "from selenium.webdriver.common.by import By\n",
    "import pandas as pd\n",
    "import time\n",
    "import re\n",
    "import os\n",
    "import fitz\n",
    "\n",
    "driver_path = \"/path/to/chromedriver\"\n",
    "options = webdriver.ChromeOptions()\n",
    "options.add_experimental_option('prefs', {\n",
    "    \"download.default_directory\": os.path.join(os.getcwd(), \"Explore\"),\n",
    "    \"download.prompt_for_download\": False,\n",
    "})\n",
    "driver = webdriver.Chrome()\n",
    "driver.get(\"https://assets.publishing.service.gov.uk/media/5a7f8e1940f0b62302690313/The_Urban_Working_-_Class_Household_Diet_1940-1949.pdf\")\n",
    "time.sleep(5)\n",
    "\n",
    "\n",
    "data = []\n",
    "for page_num in range(url.page_count):\n",
    "    page = url[page_num]\n",
    "    text = page.get_text()\n",
    "    if \"Domestic Consumption of Principal Foods\" in text:\n",
    "        lines = text.split('\\n')\n",
    "        for line in lines:\n",
    "            match = re.match(\n",
    "                r\"(Milk|Cheese|Meat|Fish|Eggs|Fats|Sugar|Preserves|Potatoes|Other vegetables|Fruit|Bread).*?(\\d+(\\.\\d+)?).*?(\\d+(\\.\\d+)?).*?(\\d+(\\.\\d+)?).*?(\\d+(\\.\\d+)?)\",\n",
    "                line\n",
    "            )\n",
    "            if match:\n",
    "                data.append({\n",
    "                    \"Food Item\": match.group(1).strip(),\n",
    "                    \"1941\": match.group(2),\n",
    "                    \"1942\": match.group(4),\n",
    "                    \"1943\": match.group(6),\n",
    "                    \"1944\": match.group(8),\n",
    "                    \"1945\": match.group(10),\n",
    "                })\n",
    "\n",
    "doc.close()\n",
    "\n",
    "df = pd.DataFrame(data)\n",
    "\n",
    "os.makedirs(\"Explore\", exist_ok=True)\n",
    "output_csv = os.path.join(\"Explore\", \"food_consumption_1941_1945.csv\")\n",
    "df.to_csv(output_csv, index=False)\n",
    "\n",
    "print(f\"Data saved to {output_csv}\")"
   ]
  }
 ],
 "metadata": {
  "kernelspec": {
   "display_name": "base",
   "language": "python",
   "name": "python3"
  },
  "language_info": {
   "codemirror_mode": {
    "name": "ipython",
    "version": 3
   },
   "file_extension": ".py",
   "mimetype": "text/x-python",
   "name": "python",
   "nbconvert_exporter": "python",
   "pygments_lexer": "ipython3",
   "version": "3.12.2"
  }
 },
 "nbformat": 4,
 "nbformat_minor": 2
}
