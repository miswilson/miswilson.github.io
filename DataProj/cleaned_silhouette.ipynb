{
 "cells": [
  {
   "cell_type": "code",
   "execution_count": 2,
   "metadata": {},
   "outputs": [],
   "source": [
    "import pandas as pd"
   ]
  },
  {
   "cell_type": "code",
   "execution_count": 19,
   "metadata": {},
   "outputs": [
    {
     "name": "stdout",
     "output_type": "stream",
     "text": [
      "Initial Data Info:\n",
      "<class 'pandas.core.frame.DataFrame'>\n",
      "RangeIndex: 658 entries, 0 to 657\n",
      "Data columns (total 4 columns):\n",
      " #   Column        Non-Null Count  Dtype  \n",
      "---  ------        --------------  -----  \n",
      " 0   Term          658 non-null    object \n",
      " 1   Start Date    658 non-null    object \n",
      " 2   End Date      658 non-null    object \n",
      " 3   Result Count  521 non-null    float64\n",
      "dtypes: float64(1), object(3)\n",
      "memory usage: 20.7+ KB\n",
      "None\n",
      "\n",
      "Initial Data Preview:\n",
      "     Term  Start Date    End Date  Result Count\n",
      "0  fitted  1900-01-01  1901-01-01         215.0\n",
      "1  fitted  1901-01-01  1902-01-01         320.0\n",
      "2  fitted  1902-01-01  1903-01-01         338.0\n",
      "3  fitted  1903-01-01  1904-01-01         363.0\n",
      "4  fitted  1904-01-01  1905-01-01         392.0\n"
     ]
    }
   ],
   "source": [
    "url = \"https://raw.githubusercontent.com/miswilson/miswilson.github.io/refs/heads/main/silhouettes_lis.csv\"\n",
    "df = pd.read_csv(url)\n",
    "\n",
    "print(\"Initial Data Info:\")\n",
    "print(df.info())\n",
    "print(\"\\nInitial Data Preview:\")\n",
    "print(df.head())\n"
   ]
  },
  {
   "cell_type": "code",
   "execution_count": 21,
   "metadata": {},
   "outputs": [
    {
     "name": "stdout",
     "output_type": "stream",
     "text": [
      "       Term  Start Date    End Date  Result Count\n",
      "0    fitted  1900-01-01  1901-01-01         215.0\n",
      "1    fitted  1901-01-01  1902-01-01         320.0\n",
      "2    fitted  1902-01-01  1903-01-01         338.0\n",
      "3    fitted  1903-01-01  1904-01-01         363.0\n",
      "4    fitted  1904-01-01  1905-01-01         392.0\n",
      "..      ...         ...         ...           ...\n",
      "653    long  2018-01-01  2019-01-01         228.0\n",
      "654    long  2019-01-01  2020-01-01         266.0\n",
      "655    long  2020-01-01  2021-01-01         174.0\n",
      "656    long  2021-01-01  2022-01-01         145.0\n",
      "657    long  2022-01-01  2023-01-01           0.0\n",
      "\n",
      "[658 rows x 4 columns]\n"
     ]
    }
   ],
   "source": [
    "# - Remove rows where all values are NaN\n",
    "clean_t = df.dropna(how=\"all\")\n",
    "print(clean_t)"
   ]
  },
  {
   "cell_type": "code",
   "execution_count": 22,
   "metadata": {},
   "outputs": [
    {
     "name": "stdout",
     "output_type": "stream",
     "text": [
      "       Term  Start Date    End Date  Result Count\n",
      "0    Fitted  1900-01-01  1901-01-01         215.0\n",
      "1    Fitted  1901-01-01  1902-01-01         320.0\n",
      "2    Fitted  1902-01-01  1903-01-01         338.0\n",
      "3    Fitted  1903-01-01  1904-01-01         363.0\n",
      "4    Fitted  1904-01-01  1905-01-01         392.0\n",
      "..      ...         ...         ...           ...\n",
      "619    Long  2018-01-01  2019-01-01         228.0\n",
      "620    Long  2019-01-01  2020-01-01         266.0\n",
      "621    Long  2020-01-01  2021-01-01         174.0\n",
      "622    Long  2021-01-01  2022-01-01         145.0\n",
      "623    Long  2022-01-01  2023-01-01           0.0\n",
      "\n",
      "[595 rows x 4 columns]\n"
     ]
    }
   ],
   "source": [
    "if 'Term' in clean_t.columns:\n",
    "    clean_t['Term'] = clean_t['Term'].str.strip().str.title()  # Capitalize the first letter of each term\n",
    "    cleaner_t = clean_t.drop_duplicates()\n",
    "    print(cleaner_t)"
   ]
  },
  {
   "cell_type": "code",
   "execution_count": 23,
   "metadata": {},
   "outputs": [
    {
     "name": "stdout",
     "output_type": "stream",
     "text": [
      "       Term  Start Date    End Date  Result Count\n",
      "0    Fitted  1900-01-01  1901-01-01         215.0\n",
      "1    Fitted  1901-01-01  1902-01-01         320.0\n",
      "2    Fitted  1902-01-01  1903-01-01         338.0\n",
      "3    Fitted  1903-01-01  1904-01-01         363.0\n",
      "4    Fitted  1904-01-01  1905-01-01         392.0\n",
      "..      ...         ...         ...           ...\n",
      "619    Long  2018-01-01  2019-01-01         228.0\n",
      "620    Long  2019-01-01  2020-01-01         266.0\n",
      "621    Long  2020-01-01  2021-01-01         174.0\n",
      "622    Long  2021-01-01  2022-01-01         145.0\n",
      "623    Long  2022-01-01  2023-01-01           0.0\n",
      "\n",
      "[465 rows x 4 columns]\n"
     ]
    }
   ],
   "source": [
    "if 'Result Count' in cleaner_t.columns:\n",
    "    cleanest_t = cleaner_t[cleaner_t['Result Count'].notna()]  # Keep rows where 'Result Count' is not NaN\n",
    "print(cleanest_t)"
   ]
  },
  {
   "cell_type": "code",
   "execution_count": 24,
   "metadata": {},
   "outputs": [],
   "source": [
    "cleanest_t.to_csv('cleaned_silhouettes_lis.csv', index=False)"
   ]
  },
  {
   "cell_type": "code",
   "execution_count": 25,
   "metadata": {},
   "outputs": [
    {
     "name": "stdout",
     "output_type": "stream",
     "text": [
      "       Term  Start Date    End Date  Result Count\n",
      "0    Fitted  1900-01-01  1901-01-01         215.0\n",
      "1    Fitted  1901-01-01  1902-01-01         320.0\n",
      "2    Fitted  1902-01-01  1903-01-01         338.0\n",
      "3    Fitted  1903-01-01  1904-01-01         363.0\n",
      "4    Fitted  1904-01-01  1905-01-01         392.0\n",
      "..      ...         ...         ...           ...\n",
      "619    Long  2018-01-01  2019-01-01         228.0\n",
      "620    Long  2019-01-01  2020-01-01         266.0\n",
      "621    Long  2020-01-01  2021-01-01         174.0\n",
      "622    Long  2021-01-01  2022-01-01         145.0\n",
      "623    Long  2022-01-01  2023-01-01           0.0\n",
      "\n",
      "[465 rows x 4 columns]\n"
     ]
    }
   ],
   "source": [
    "print(cleanest_t)"
   ]
  }
 ],
 "metadata": {
  "kernelspec": {
   "display_name": "base",
   "language": "python",
   "name": "python3"
  },
  "language_info": {
   "codemirror_mode": {
    "name": "ipython",
    "version": 3
   },
   "file_extension": ".py",
   "mimetype": "text/x-python",
   "name": "python",
   "nbconvert_exporter": "python",
   "pygments_lexer": "ipython3",
   "version": "3.12.2"
  }
 },
 "nbformat": 4,
 "nbformat_minor": 2
}
