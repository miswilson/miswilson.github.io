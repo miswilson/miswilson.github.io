{
 "cells": [
  {
   "cell_type": "code",
   "execution_count": null,
   "metadata": {},
   "outputs": [],
   "source": [
    "import csv\n",
    "from selenium import webdriver\n",
    "from selenium.webdriver.common.by import By\n",
    "from selenium.webdriver.common.keys import Keys\n",
    "from selenium.webdriver.support.ui import WebDriverWait\n",
    "from selenium.webdriver.support import expected_conditions as EC\n",
    "from datetime import datetime\n",
    "from dateutil.relativedelta import relativedelta  # To increment dates by months\n",
    "\n",
    "\n",
    "search_term = \"Sequins\"\n",
    "start_date = \"JANUARY 1915\"  # Format: \"MONTH YEAR\"\n",
    "end_date = \"DECEMBER 1925\"  \n",
    "\n",
    "# Helper function to generate a list of months and years in range\n",
    "def generate_date_range(start, end):\n",
    "    start_date = datetime.strptime(start, \"%B %Y\")\n",
    "    end_date = datetime.strptime(end, \"%B %Y\")\n",
    "    date_list = []\n",
    "    while start_date <= end_date:\n",
    "        date_list.append(start_date.strftime(\"%B %Y\"))\n",
    "        start_date += relativedelta(months=1)  # Increment by one month\n",
    "    return date_list\n",
    "\n",
    "# Generate the range of dates\n",
    "date_range = generate_date_range(start_date, end_date)"
   ]
  },
  {
   "cell_type": "code",
   "execution_count": 2,
   "metadata": {},
   "outputs": [],
   "source": [
    "driver = webdriver.Chrome()\n",
    "driver.get(\"https://archive.vogue.com/login\")"
   ]
  },
  {
   "cell_type": "code",
   "execution_count": 6,
   "metadata": {},
   "outputs": [],
   "source": [
    "images = driver.find_elements(By.CLASS_NAME, \"spread\")"
   ]
  },
  {
   "cell_type": "code",
   "execution_count": 7,
   "metadata": {},
   "outputs": [
    {
     "data": {
      "text/plain": [
       "[<selenium.webdriver.remote.webelement.WebElement (session=\"49af54454c92f1551412c5f6a8e34af3\", element=\"f.194CFC5174048FD383B83EC2979C7869.d.C5B154F167CE60B01B5D82CAE40307C8.e.538\")>,\n",
       " <selenium.webdriver.remote.webelement.WebElement (session=\"49af54454c92f1551412c5f6a8e34af3\", element=\"f.194CFC5174048FD383B83EC2979C7869.d.C5B154F167CE60B01B5D82CAE40307C8.e.544\")>,\n",
       " <selenium.webdriver.remote.webelement.WebElement (session=\"49af54454c92f1551412c5f6a8e34af3\", element=\"f.194CFC5174048FD383B83EC2979C7869.d.C5B154F167CE60B01B5D82CAE40307C8.e.551\")>,\n",
       " <selenium.webdriver.remote.webelement.WebElement (session=\"49af54454c92f1551412c5f6a8e34af3\", element=\"f.194CFC5174048FD383B83EC2979C7869.d.C5B154F167CE60B01B5D82CAE40307C8.e.556\")>,\n",
       " <selenium.webdriver.remote.webelement.WebElement (session=\"49af54454c92f1551412c5f6a8e34af3\", element=\"f.194CFC5174048FD383B83EC2979C7869.d.C5B154F167CE60B01B5D82CAE40307C8.e.561\")>,\n",
       " <selenium.webdriver.remote.webelement.WebElement (session=\"49af54454c92f1551412c5f6a8e34af3\", element=\"f.194CFC5174048FD383B83EC2979C7869.d.C5B154F167CE60B01B5D82CAE40307C8.e.569\")>,\n",
       " <selenium.webdriver.remote.webelement.WebElement (session=\"49af54454c92f1551412c5f6a8e34af3\", element=\"f.194CFC5174048FD383B83EC2979C7869.d.C5B154F167CE60B01B5D82CAE40307C8.e.581\")>,\n",
       " <selenium.webdriver.remote.webelement.WebElement (session=\"49af54454c92f1551412c5f6a8e34af3\", element=\"f.194CFC5174048FD383B83EC2979C7869.d.C5B154F167CE60B01B5D82CAE40307C8.e.593\")>,\n",
       " <selenium.webdriver.remote.webelement.WebElement (session=\"49af54454c92f1551412c5f6a8e34af3\", element=\"f.194CFC5174048FD383B83EC2979C7869.d.C5B154F167CE60B01B5D82CAE40307C8.e.605\")>,\n",
       " <selenium.webdriver.remote.webelement.WebElement (session=\"49af54454c92f1551412c5f6a8e34af3\", element=\"f.194CFC5174048FD383B83EC2979C7869.d.C5B154F167CE60B01B5D82CAE40307C8.e.617\")>,\n",
       " <selenium.webdriver.remote.webelement.WebElement (session=\"49af54454c92f1551412c5f6a8e34af3\", element=\"f.194CFC5174048FD383B83EC2979C7869.d.C5B154F167CE60B01B5D82CAE40307C8.e.628\")>,\n",
       " <selenium.webdriver.remote.webelement.WebElement (session=\"49af54454c92f1551412c5f6a8e34af3\", element=\"f.194CFC5174048FD383B83EC2979C7869.d.C5B154F167CE60B01B5D82CAE40307C8.e.636\")>,\n",
       " <selenium.webdriver.remote.webelement.WebElement (session=\"49af54454c92f1551412c5f6a8e34af3\", element=\"f.194CFC5174048FD383B83EC2979C7869.d.C5B154F167CE60B01B5D82CAE40307C8.e.643\")>,\n",
       " <selenium.webdriver.remote.webelement.WebElement (session=\"49af54454c92f1551412c5f6a8e34af3\", element=\"f.194CFC5174048FD383B83EC2979C7869.d.C5B154F167CE60B01B5D82CAE40307C8.e.649\")>,\n",
       " <selenium.webdriver.remote.webelement.WebElement (session=\"49af54454c92f1551412c5f6a8e34af3\", element=\"f.194CFC5174048FD383B83EC2979C7869.d.C5B154F167CE60B01B5D82CAE40307C8.e.655\")>,\n",
       " <selenium.webdriver.remote.webelement.WebElement (session=\"49af54454c92f1551412c5f6a8e34af3\", element=\"f.194CFC5174048FD383B83EC2979C7869.d.C5B154F167CE60B01B5D82CAE40307C8.e.663\")>,\n",
       " <selenium.webdriver.remote.webelement.WebElement (session=\"49af54454c92f1551412c5f6a8e34af3\", element=\"f.194CFC5174048FD383B83EC2979C7869.d.C5B154F167CE60B01B5D82CAE40307C8.e.673\")>,\n",
       " <selenium.webdriver.remote.webelement.WebElement (session=\"49af54454c92f1551412c5f6a8e34af3\", element=\"f.194CFC5174048FD383B83EC2979C7869.d.C5B154F167CE60B01B5D82CAE40307C8.e.683\")>,\n",
       " <selenium.webdriver.remote.webelement.WebElement (session=\"49af54454c92f1551412c5f6a8e34af3\", element=\"f.194CFC5174048FD383B83EC2979C7869.d.C5B154F167CE60B01B5D82CAE40307C8.e.693\")>,\n",
       " <selenium.webdriver.remote.webelement.WebElement (session=\"49af54454c92f1551412c5f6a8e34af3\", element=\"f.194CFC5174048FD383B83EC2979C7869.d.C5B154F167CE60B01B5D82CAE40307C8.e.704\")>,\n",
       " <selenium.webdriver.remote.webelement.WebElement (session=\"49af54454c92f1551412c5f6a8e34af3\", element=\"f.194CFC5174048FD383B83EC2979C7869.d.C5B154F167CE60B01B5D82CAE40307C8.e.713\")>,\n",
       " <selenium.webdriver.remote.webelement.WebElement (session=\"49af54454c92f1551412c5f6a8e34af3\", element=\"f.194CFC5174048FD383B83EC2979C7869.d.C5B154F167CE60B01B5D82CAE40307C8.e.722\")>]"
      ]
     },
     "execution_count": 7,
     "metadata": {},
     "output_type": "execute_result"
    }
   ],
   "source": [
    "images"
   ]
  },
  {
   "cell_type": "code",
   "execution_count": 11,
   "metadata": {},
   "outputs": [
    {
     "data": {
      "text/plain": [
       "'Jane Engel, Page: 91 - October 1, 1946 | Vogue'"
      ]
     },
     "execution_count": 11,
     "metadata": {},
     "output_type": "execute_result"
    }
   ],
   "source": [
    "src\n",
    "alt"
   ]
  },
  {
   "cell_type": "code",
   "execution_count": 12,
   "metadata": {},
   "outputs": [
    {
     "data": {
      "text/plain": [
       "[{'src': 'https://vogueprod.blob.core.windows.net/vogueoutput19890701thumbnails/Spreads/0x360/1.jpg',\n",
       "  'date': 'JULY 1989'},\n",
       " {'src': 'https://vogueprod.blob.core.windows.net/vogueoutput19890801thumbnails/Spreads/0x360/171.jpg',\n",
       "  'date': 'AUGUST 1989'},\n",
       " {'src': 'https://vogueprod.blob.core.windows.net/vogueoutput19360901thumbnails/Spreads/0x360/61.jpg',\n",
       "  'date': 'SEPTEMBER 1, 1936'},\n",
       " {'src': 'https://vogueprod.blob.core.windows.net/vogueoutput19370915thumbnails/Spreads/0x360/67.jpg',\n",
       "  'date': 'SEPTEMBER 15, 1937'},\n",
       " {'src': 'https://vogueprod.blob.core.windows.net/vogueoutput20150901thumbnails/Spreads/0x360/296.jpg',\n",
       "  'date': 'September 2015'},\n",
       " {'src': 'https://vogueprod.blob.core.windows.net/vogueoutput19340515thumbnails/Spreads/0x360/42.jpg',\n",
       "  'date': 'MAY 15, 1934'},\n",
       " {'src': 'https://vogueprod.blob.core.windows.net/vogueoutput19401001thumbnails/Spreads/0x360/44.jpg',\n",
       "  'date': 'October 1, 1940'},\n",
       " {'src': 'https://vogueprod.blob.core.windows.net/vogueoutput19370101thumbnails/Spreads/0x360/42.jpg',\n",
       "  'date': 'January 1, 1937'},\n",
       " {'src': 'https://vogueprod.blob.core.windows.net/vogueoutput19430601thumbnails/Spreads/0x360/27.jpg',\n",
       "  'date': 'June 1, 1943'},\n",
       " {'src': 'https://vogueprod.blob.core.windows.net/vogueoutput19371215thumbnails/Spreads/0x360/39.jpg',\n",
       "  'date': 'DECEMBER 15, 1937'},\n",
       " {'src': 'https://vogueprod.blob.core.windows.net/vogueoutput19860901thumbnails/Spreads/0x360/252.jpg',\n",
       "  'date': 'September 1986'},\n",
       " {'src': 'https://vogueprod.blob.core.windows.net/vogueoutput19450501thumbnails/Spreads/0x360/45.jpg',\n",
       "  'date': 'May 1, 1945'},\n",
       " {'src': 'https://vogueprod.blob.core.windows.net/vogueoutput19460901thumbnails/Spreads/0x360/54.jpg',\n",
       "  'date': 'September 1, 1946'},\n",
       " {'src': 'https://vogueprod.blob.core.windows.net/vogueoutput19860901thumbnails/Spreads/0x360/256.jpg',\n",
       "  'date': 'September 1986'},\n",
       " {'src': 'https://vogueprod.blob.core.windows.net/vogueoutput19461001thumbnails/Spreads/0x360/38.jpg',\n",
       "  'date': 'October 1, 1946'},\n",
       " {'src': 'https://vogueprod.blob.core.windows.net/vogueoutput19451115thumbnails/Spreads/0x360/9.jpg',\n",
       "  'date': 'November 15, 1945'},\n",
       " {'src': 'https://vogueprod.blob.core.windows.net/vogueoutput19371101thumbnails/Spreads/0x360/6.jpg',\n",
       "  'date': 'NOVEMBER 1, 1937'},\n",
       " {'src': 'https://vogueprod.blob.core.windows.net/vogueoutput19521101thumbnails/Spreads/0x360/45.jpg',\n",
       "  'date': 'NOVEMBER 1, 1952'},\n",
       " {'src': 'https://vogueprod.blob.core.windows.net/vogueoutput19830901thumbnails/Spreads/0x360/85.jpg',\n",
       "  'date': 'September 1983'},\n",
       " {'src': 'https://vogueprod.blob.core.windows.net/vogueoutput19471015thumbnails/Spreads/0x360/28.jpg',\n",
       "  'date': 'October 15, 1947'},\n",
       " {'src': 'https://vogueprod.blob.core.windows.net/vogueoutput19860901thumbnails/Spreads/0x360/218.jpg',\n",
       "  'date': 'September 1986'},\n",
       " {'src': 'https://vogueprod.blob.core.windows.net/vogueoutput19461001thumbnails/Spreads/0x360/47.jpg',\n",
       "  'date': 'October 1, 1946'}]"
      ]
     },
     "execution_count": 12,
     "metadata": {},
     "output_type": "execute_result"
    }
   ],
   "source": [
    "all_image_data = []\n",
    "for img in images:\n",
    "            src = img.get_attribute(\"src\")\n",
    "            alt = img.get_attribute(\"alt\")\n",
    "            \n",
    "            if src and alt in alt:  # Check if the date matches the `alt` text\n",
    "                # Extract the date part from the `alt` attribute\n",
    "                date_part = alt.split('|')[0].split(' - ')[-1].strip()\n",
    "                all_image_data.append({\"src\": src, \"date\": date_part})\n",
    "all_image_data"
   ]
  },
  {
   "cell_type": "code",
   "execution_count": 13,
   "metadata": {},
   "outputs": [],
   "source": [
    "import requests"
   ]
  },
  {
   "cell_type": "code",
   "execution_count": 14,
   "metadata": {},
   "outputs": [],
   "source": [
    "image_requ = requests.get(\"https://vogueprod.blob.core.windows.net/vogueoutput19460901thumbnails/Spreads/0x360/54.jpg\")"
   ]
  },
  {
   "cell_type": "code",
   "execution_count": 21,
   "metadata": {},
   "outputs": [],
   "source": [
    "with open(\"temp.jpg\", \"wb\") as f:\n",
    "    f.write(image_requ.content)"
   ]
  },
  {
   "cell_type": "code",
   "execution_count": null,
   "metadata": {},
   "outputs": [],
   "source": [
    "image_requ = requests.get(all_image_data)"
   ]
  },
  {
   "cell_type": "code",
   "execution_count": 27,
   "metadata": {},
   "outputs": [
    {
     "name": "stdout",
     "output_type": "stream",
     "text": [
      "Downloaded: downloaded_images/JULY_1989.jpg\n",
      "Downloaded: downloaded_images/AUGUST_1989.jpg\n",
      "Downloaded: downloaded_images/SEPTEMBER_1_1936.jpg\n",
      "Downloaded: downloaded_images/SEPTEMBER_15_1937.jpg\n",
      "Downloaded: downloaded_images/September_2015.jpg\n",
      "Downloaded: downloaded_images/MAY_15_1934.jpg\n",
      "Downloaded: downloaded_images/October_1_1940.jpg\n",
      "Downloaded: downloaded_images/January_1_1937.jpg\n",
      "Downloaded: downloaded_images/June_1_1943.jpg\n",
      "Downloaded: downloaded_images/DECEMBER_15_1937.jpg\n",
      "Downloaded: downloaded_images/September_1986.jpg\n",
      "Downloaded: downloaded_images/May_1_1945.jpg\n",
      "Downloaded: downloaded_images/October_15_1947.jpg\n",
      "Downloaded: downloaded_images/September_1986.jpg\n",
      "Downloaded: downloaded_images/October_1_1946.jpg\n"
     ]
    }
   ],
   "source": [
    "import os\n",
    "import requests\n",
    "\n",
    "# Example `all_image_data` list\n",
    "all_image_data = [{'src': 'https://vogueprod.blob.core.windows.net/vogueoutput19890701thumbnails/Spreads/0x360/1.jpg',\n",
    "  'date': 'JULY 1989'},\n",
    " {'src': 'https://vogueprod.blob.core.windows.net/vogueoutput19890801thumbnails/Spreads/0x360/171.jpg',\n",
    "  'date': 'AUGUST 1989'},\n",
    " {'src': 'https://vogueprod.blob.core.windows.net/vogueoutput19360901thumbnails/Spreads/0x360/61.jpg',\n",
    "  'date': 'SEPTEMBER 1, 1936'},\n",
    " {'src': 'https://vogueprod.blob.core.windows.net/vogueoutput19370915thumbnails/Spreads/0x360/67.jpg',\n",
    "  'date': 'SEPTEMBER 15, 1937'},\n",
    " {'src': 'https://vogueprod.blob.core.windows.net/vogueoutput20150901thumbnails/Spreads/0x360/296.jpg',\n",
    "  'date': 'September 2015'},\n",
    " {'src': 'https://vogueprod.blob.core.windows.net/vogueoutput19340515thumbnails/Spreads/0x360/42.jpg',\n",
    "  'date': 'MAY 15, 1934'},\n",
    " {'src': 'https://vogueprod.blob.core.windows.net/vogueoutput19401001thumbnails/Spreads/0x360/44.jpg',\n",
    "  'date': 'October 1, 1940'},\n",
    " {'src': 'https://vogueprod.blob.core.windows.net/vogueoutput19370101thumbnails/Spreads/0x360/42.jpg',\n",
    "  'date': 'January 1, 1937'},\n",
    " {'src': 'https://vogueprod.blob.core.windows.net/vogueoutput19430601thumbnails/Spreads/0x360/27.jpg',\n",
    "  'date': 'June 1, 1943'},\n",
    " {'src': 'https://vogueprod.blob.core.windows.net/vogueoutput19371215thumbnails/Spreads/0x360/39.jpg',\n",
    "  'date': 'DECEMBER 15, 1937'},\n",
    " {'src': 'https://vogueprod.blob.core.windows.net/vogueoutput19860901thumbnails/Spreads/0x360/252.jpg',\n",
    "  'date': 'September 1986'},\n",
    " {'src': 'https://vogueprod.blob.core.windows.net/vogueoutput19450501thumbnails/Spreads/0x360/45.jpg',\n",
    "  'date': 'May 1, 1945'},\n",
    " {'src': 'https://vogueprod.blob.core.windows.net/vogueoutput19460901thumbnails/Spreads/0x360/54.jpg',\n",
    "  'date': 'October 15, 1947'},\n",
    " {'src': 'https://vogueprod.blob.core.windows.net/vogueoutput19860901thumbnails/Spreads/0x360/218.jpg',\n",
    "  'date': 'September 1986'},\n",
    " {'src': 'https://vogueprod.blob.core.windows.net/vogueoutput19461001thumbnails/Spreads/0x360/47.jpg',\n",
    "  'date': 'October 1, 1946'}]\n",
    "\n",
    "# Create a folder to store the downloaded images\n",
    "os.makedirs(\"downloaded_images\", exist_ok=True)\n",
    "\n",
    "# Loop through each image in the list and download it\n",
    "for image in all_image_data:\n",
    "    src = image[\"src\"]\n",
    "    date = image[\"date\"].replace(\" \", \"_\").replace(\",\", \"\")  # Make date filename-friendly\n",
    "    \n",
    "    # Construct the file name\n",
    "    file_name = f\"downloaded_images/{date}.jpg\"\n",
    "    \n",
    "    try:\n",
    "        # Download the image\n",
    "        response = requests.get(src)\n",
    "        response.raise_for_status()  # Raise an error for bad HTTP responses\n",
    "        \n",
    "        # Save the image to the file\n",
    "        with open(file_name, \"wb\") as f:\n",
    "            f.write(response.content)\n",
    "        \n",
    "        print(f\"Downloaded: {file_name}\")\n",
    "    except requests.exceptions.RequestException as e:\n",
    "        print(f\"Failed to download {src}. Error: {e}\")\n"
   ]
  },
  {
   "cell_type": "code",
   "execution_count": 26,
   "metadata": {},
   "outputs": [
    {
     "data": {
      "text/plain": [
       "'downloaded_images/October_1_1946.jpg'"
      ]
     },
     "execution_count": 26,
     "metadata": {},
     "output_type": "execute_result"
    }
   ],
   "source": [
    "file_name"
   ]
  },
  {
   "cell_type": "code",
   "execution_count": 28,
   "metadata": {},
   "outputs": [
    {
     "name": "stdout",
     "output_type": "stream",
     "text": [
      "Downloaded: JULY_1989.jpg\n",
      "Downloaded: AUGUST_1989.jpg\n",
      "Downloaded: SEPTEMBER_1_1936.jpg\n",
      "Downloaded: SEPTEMBER_15_1937.jpg\n",
      "Downloaded: September_2015.jpg\n",
      "Downloaded: MAY_15_1934.jpg\n",
      "Downloaded: October_1_1940.jpg\n",
      "Downloaded: January_1_1937.jpg\n",
      "Downloaded: June_1_1943.jpg\n",
      "Downloaded: DECEMBER_15_1937.jpg\n",
      "Downloaded: September_1986.jpg\n",
      "Downloaded: May_1_1945.jpg\n",
      "Downloaded: October_15_1947.jpg\n",
      "Downloaded: September_1986.jpg\n",
      "Downloaded: October_1_1946.jpg\n",
      "All images downloaded and metadata saved to image_vogue.csv\n"
     ]
    }
   ],
   "source": [
    "import csv\n",
    "import os\n",
    "import requests\n",
    "\n",
    "os.makedirs(\"downloaded_images\", exist_ok=True)\n",
    "\n",
    "csv_file = \"image_vogue.csv\"\n",
    "\n",
    "# Open the CSV file for writing\n",
    "with open(csv_file, mode=\"w\", newline=\"\", encoding=\"utf-8\") as file:\n",
    "    writer = csv.writer(file)\n",
    "    # Write the header\n",
    "    writer.writerow([\"Date\", \"Image URL\", \"File Name\"])\n",
    "\n",
    "    # Loop through all images in `all_image_data`\n",
    "    for image in all_image_data:\n",
    "        src = image[\"src\"]\n",
    "        date = image[\"date\"].replace(\" \", \"_\").replace(\",\", \"\")  # Make date filename-friendly\n",
    "        file_name = f\"{date}.jpg\"  # Construct the image file name\n",
    "\n",
    "        try:\n",
    "            # Download the image\n",
    "            response = requests.get(src)\n",
    "            response.raise_for_status()  # Raise HTTPError for bad responses\n",
    "\n",
    "            # Save the image\n",
    "            with open(f\"downloaded_images/{file_name}\", \"wb\") as img_file:\n",
    "                img_file.write(response.content)\n",
    "\n",
    "            print(f\"Downloaded: {file_name}\")\n",
    "            # Write metadata to the CSV\n",
    "            writer.writerow([image[\"date\"], src, file_name])\n",
    "        except requests.exceptions.RequestException as e:\n",
    "            print(f\"Failed to download {src}. Error: {e}\")\n",
    "            # Log the failed download with a note\n",
    "            writer.writerow([image[\"date\"], src, \"Download failed\"])\n",
    "\n",
    "print(f\"All images downloaded and metadata saved to {csv_file}\")\n"
   ]
  },
  {
   "cell_type": "code",
   "execution_count": 30,
   "metadata": {},
   "outputs": [],
   "source": [
    "search_term = \"Fur\"\n",
    "start_date = \"JANUARY 1915\"  # Format: \"MONTH YEAR\"\n",
    "end_date = \"DECEMBER 1925\"  \n",
    "\n",
    "# Helper function to generate a list of months and years in range\n",
    "def generate_date_range(start, end):\n",
    "    start_date = datetime.strptime(start, \"%B %Y\")\n",
    "    end_date = datetime.strptime(end, \"%B %Y\")\n",
    "    date_list = []\n",
    "    while start_date <= end_date:\n",
    "        date_list.append(start_date.strftime(\"%B %Y\"))\n",
    "        start_date += relativedelta(months=1)  # Increment by one month\n",
    "    return date_list\n",
    "\n",
    "# Generate the range of dates\n",
    "date_range = generate_date_range(start_date, end_date)"
   ]
  },
  {
   "cell_type": "code",
   "execution_count": 32,
   "metadata": {},
   "outputs": [
    {
     "name": "stdout",
     "output_type": "stream",
     "text": [
      "Downloaded: JULY_1989.jpg\n",
      "Downloaded: AUGUST_1989.jpg\n",
      "Downloaded: SEPTEMBER_1_1936.jpg\n",
      "Downloaded: SEPTEMBER_15_1937.jpg\n",
      "Downloaded: September_2015.jpg\n",
      "Downloaded: MAY_15_1934.jpg\n",
      "Downloaded: October_1_1940.jpg\n",
      "Downloaded: January_1_1937.jpg\n",
      "Downloaded: June_1_1943.jpg\n",
      "Downloaded: DECEMBER_15_1937.jpg\n",
      "Downloaded: September_1986.jpg\n",
      "Downloaded: May_1_1945.jpg\n",
      "Downloaded: September_1_1946.jpg\n",
      "Downloaded: September_1986.jpg\n",
      "Downloaded: October_1_1946.jpg\n",
      "Downloaded: November_15_1945.jpg\n",
      "Downloaded: NOVEMBER_1_1937.jpg\n",
      "Downloaded: NOVEMBER_1_1952.jpg\n",
      "Downloaded: September_1983.jpg\n",
      "Downloaded: October_15_1947.jpg\n",
      "Downloaded: September_1986.jpg\n",
      "Downloaded: October_1_1946.jpg\n",
      "All images downloaded and metadata saved to image_fur.csv\n"
     ]
    }
   ],
   "source": [
    "fur_images = driver.find_elements(By.CLASS_NAME, \"spread\")\n",
    "fur_images\n",
    "\n",
    "all_image_fur = []\n",
    "for img in fur_images:\n",
    "            src = img.get_attribute(\"src\")\n",
    "            alt = img.get_attribute(\"alt\")\n",
    "            \n",
    "            if src and alt in alt:  # Date matches the `alt` text\n",
    "                # Extract the date part from the `alt` attribute\n",
    "                date_part = alt.split('|')[0].split(' - ')[-1].strip()\n",
    "                all_image_fur.append({\"src\": src, \"date\": date_part})\n",
    "all_image_fur\n",
    "\n",
    "os.makedirs(\"downloaded_images\", exist_ok=True)\n",
    "\n",
    "csv_file = \"image_fur.csv\"\n",
    "\n",
    "# Open the CSV file for writing\n",
    "with open(csv_file, mode=\"w\", newline=\"\", encoding=\"utf-8\") as file:\n",
    "    writer = csv.writer(file)\n",
    "    # Write the header\n",
    "    writer.writerow([\"Date\", \"Image URL\", \"File Name\"])\n",
    "\n",
    "    # Loop through all images in `all_image_fur`\n",
    "    for image in all_image_fur:\n",
    "        src = image[\"src\"]\n",
    "        date = image[\"date\"].replace(\" \", \"_\").replace(\",\", \"\")  # Make date filename-friendly\n",
    "        file_name = f\"{date}.jpg\"  # Construct the image file name\n",
    "\n",
    "        try:\n",
    "            # Download the image\n",
    "            response = requests.get(src)\n",
    "            response.raise_for_status()  # Raise HTTPError for bad responses\n",
    "\n",
    "            # Save the image\n",
    "            with open(f\"downloaded_images/{file_name}\", \"wb\") as img_file:\n",
    "                img_file.write(response.content)\n",
    "\n",
    "            print(f\"Downloaded: {file_name}\")\n",
    "            \n",
    "            writer.writerow([image[\"date\"], src, file_name])\n",
    "        except requests.exceptions.RequestException as e:\n",
    "            print(f\"Failed to download {src}. Error: {e}\")\n",
    "            # failed download \n",
    "            writer.writerow([image[\"date\"], src, \"Download failed\"])\n",
    "\n",
    "print(f\"All images downloaded and metadata saved to {csv_file}\")"
   ]
  },
  {
   "cell_type": "code",
   "execution_count": 33,
   "metadata": {},
   "outputs": [
    {
     "name": "stdout",
     "output_type": "stream",
     "text": [
      "Downloaded: JULY_1989.jpg\n",
      "Downloaded: AUGUST_1989.jpg\n",
      "Downloaded: SEPTEMBER_1_1936.jpg\n",
      "Downloaded: SEPTEMBER_15_1937.jpg\n",
      "Downloaded: September_2015.jpg\n",
      "Downloaded: MAY_15_1934.jpg\n",
      "Downloaded: October_1_1940.jpg\n",
      "Downloaded: January_1_1937.jpg\n",
      "Downloaded: June_1_1943.jpg\n",
      "Downloaded: DECEMBER_15_1937.jpg\n",
      "Downloaded: September_1986.jpg\n",
      "Downloaded: May_1_1945.jpg\n",
      "Downloaded: September_1_1946.jpg\n",
      "Downloaded: September_1986.jpg\n",
      "Downloaded: October_1_1946.jpg\n",
      "Downloaded: November_15_1945.jpg\n",
      "Downloaded: NOVEMBER_1_1937.jpg\n",
      "Downloaded: NOVEMBER_1_1952.jpg\n",
      "Downloaded: September_1983.jpg\n",
      "Downloaded: October_15_1947.jpg\n",
      "Downloaded: September_1986.jpg\n",
      "Downloaded: October_1_1946.jpg\n",
      "All images downloaded and metadata saved to all_image_suit.csv\n"
     ]
    }
   ],
   "source": [
    "search_term = \"Suit\"\n",
    "start_date = \"JANUARY 1900\"  # Format: \"MONTH YEAR\"\n",
    "end_date = \"DECEMBER 2022\"  \n",
    "\n",
    "# Helper function to generate a list of months and years in range\n",
    "def generate_date_range(start, end):\n",
    "    start_date = datetime.strptime(start, \"%B %Y\")\n",
    "    end_date = datetime.strptime(end, \"%B %Y\")\n",
    "    date_list = []\n",
    "    while start_date <= end_date:\n",
    "        date_list.append(start_date.strftime(\"%B %Y\"))\n",
    "        start_date += relativedelta(months=1)  # Increment by one month\n",
    "    return date_list\n",
    "\n",
    "# Generate the range of dates\n",
    "date_range = generate_date_range(start_date, end_date)\n",
    "\n",
    "suit_images = driver.find_elements(By.CLASS_NAME, \"spread\")\n",
    "suit_images\n",
    "\n",
    "all_image_suit = []\n",
    "for img in suit_images:\n",
    "            src = img.get_attribute(\"src\")\n",
    "            alt = img.get_attribute(\"alt\")\n",
    "            \n",
    "            if src and alt in alt:  # Date matches the `alt` text\n",
    "                # Extract the date part from the `alt` attribute\n",
    "                date_part = alt.split('|')[0].split(' - ')[-1].strip()\n",
    "                all_image_suit.append({\"src\": src, \"date\": date_part})\n",
    "all_image_suit\n",
    "\n",
    "os.makedirs(\"downloaded_images\", exist_ok=True)\n",
    "\n",
    "csv_file = \"all_image_suit.csv\"\n",
    "\n",
    "# Open the CSV file for writing\n",
    "with open(csv_file, mode=\"w\", newline=\"\", encoding=\"utf-8\") as file:\n",
    "    writer = csv.writer(file)\n",
    "    # Write the header\n",
    "    writer.writerow([\"Date\", \"Image URL\", \"File Name\"])\n",
    "\n",
    "    # Loop through all images in `all_image_fur`\n",
    "    for image in all_image_fur:\n",
    "        src = image[\"src\"]\n",
    "        date = image[\"date\"].replace(\" \", \"_\").replace(\",\", \"\")  # Make date filename-friendly\n",
    "        file_name = f\"{date}.jpg\"  # Construct the image file name\n",
    "\n",
    "        try:\n",
    "            # Download the image\n",
    "            response = requests.get(src)\n",
    "            response.raise_for_status()  # Raise HTTPError for bad responses\n",
    "\n",
    "            # Save the image\n",
    "            with open(f\"downloaded_images/{file_name}\", \"wb\") as img_file:\n",
    "                img_file.write(response.content)\n",
    "\n",
    "            print(f\"Downloaded: {file_name}\")\n",
    "            \n",
    "            writer.writerow([image[\"date\"], src, file_name])\n",
    "        except requests.exceptions.RequestException as e:\n",
    "            print(f\"Failed to download {src}. Error: {e}\")\n",
    "            # failed download \n",
    "            writer.writerow([image[\"date\"], src, \"Download failed\"])\n",
    "\n",
    "print(f\"All images downloaded and metadata saved to {csv_file}\")"
   ]
  }
 ],
 "metadata": {
  "kernelspec": {
   "display_name": "base",
   "language": "python",
   "name": "python3"
  },
  "language_info": {
   "codemirror_mode": {
    "name": "ipython",
    "version": 3
   },
   "file_extension": ".py",
   "mimetype": "text/x-python",
   "name": "python",
   "nbconvert_exporter": "python",
   "pygments_lexer": "ipython3",
   "version": "3.12.2"
  }
 },
 "nbformat": 4,
 "nbformat_minor": 2
}
