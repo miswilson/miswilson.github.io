{
 "cells": [
  {
   "cell_type": "code",
   "execution_count": 2,
   "metadata": {},
   "outputs": [],
   "source": [
    "import csv\n",
    "from selenium import webdriver\n",
    "from selenium.webdriver.common.by import By\n",
    "from selenium.webdriver.common.keys import Keys\n",
    "from selenium.webdriver.support.ui import WebDriverWait\n",
    "from selenium.webdriver.support import expected_conditions as EC\n",
    "from datetime import datetime\n",
    "from dateutil.relativedelta import relativedelta \n",
    "import requests\n",
    "import os"
   ]
  },
  {
   "cell_type": "code",
   "execution_count": 3,
   "metadata": {},
   "outputs": [],
   "source": [
    "driver = webdriver.Chrome()\n",
    "driver.get(\"https://archive.vogue.com/login\")"
   ]
  },
  {
   "cell_type": "code",
   "execution_count": 8,
   "metadata": {},
   "outputs": [
    {
     "name": "stdout",
     "output_type": "stream",
     "text": [
      "Downloaded: JUNE_2017.jpg\n",
      "Downloaded: May_29_1902.jpg\n",
      "Downloaded: MARCH_15_1970.jpg\n",
      "Downloaded: JULY_2013.jpg\n",
      "Downloaded: NOVEMBER_2014.jpg\n",
      "Downloaded: June_2015.jpg\n",
      "Downloaded: JANUARY_1998.jpg\n",
      "Downloaded: AUGUST_1999.jpg\n",
      "Downloaded: OCTOBER_2016.jpg\n",
      "Downloaded: April_1_1926.jpg\n",
      "Downloaded: March_1_1926.jpg\n",
      "Downloaded: October_15_1923.jpg\n",
      "Downloaded: APRIL_15_1938.jpg\n",
      "Downloaded: December_1_1920.jpg\n",
      "Downloaded: DECEMBER_1_1927.jpg\n",
      "Downloaded: April_1_1918.jpg\n",
      "Downloaded: January_15_1918.jpg\n",
      "Downloaded: February_1_1921.jpg\n",
      "Downloaded: September_1_1920.jpg\n",
      "Downloaded: November_1_1920.jpg\n",
      "Downloaded: MAY_15_1947.jpg\n",
      "All images downloaded and metadata saved to all_image_bloom.csv\n"
     ]
    }
   ],
   "source": [
    "search_term = \"Bloom\"\n",
    "start_date = \"JANUARY 1900\"  # Format: \"MONTH YEAR\"\n",
    "end_date = \"DECEMBER 2022\"  \n",
    "\n",
    "# Helper function to generate a list of months and years in range\n",
    "def generate_date_range(start, end):\n",
    "    start_date = datetime.strptime(start, \"%B %Y\")\n",
    "    end_date = datetime.strptime(end, \"%B %Y\")\n",
    "    date_list = []\n",
    "    while start_date <= end_date:\n",
    "        date_list.append(start_date.strftime(\"%B %Y\"))\n",
    "        start_date += relativedelta(months=1)  # Increment by one month\n",
    "    return date_list\n",
    "\n",
    "# Generate the range of dates\n",
    "date_range = generate_date_range(start_date, end_date)\n",
    "\n",
    "bloom = driver.find_elements(By.CLASS_NAME, \"spread\")\n",
    "bloom\n",
    "\n",
    "all_image_bloom = []\n",
    "for img in bloom:\n",
    "            src = img.get_attribute(\"src\")\n",
    "            alt = img.get_attribute(\"alt\")\n",
    "            \n",
    "            if src and alt in alt:  # Date matches the `alt` text\n",
    "                # Extract the date part from the `alt` attribute\n",
    "                date_part = alt.split('|')[0].split(' - ')[-1].strip()\n",
    "                all_image_bloom.append({\"src\": src, \"date\": date_part})\n",
    "all_image_bloom\n",
    "\n",
    "os.makedirs(\"downloaded_images\", exist_ok=True)\n",
    "\n",
    "csv_file = \"all_image_bloom.csv\"\n",
    "\n",
    "# Open the CSV file for writing\n",
    "with open(csv_file, mode=\"w\", newline=\"\", encoding=\"utf-8\") as file:\n",
    "    writer = csv.writer(file)\n",
    "    # Write the header\n",
    "    writer.writerow([\"Date\", \"Image URL\", \"File Name\"])\n",
    "\n",
    "    # Loop through all images in `all_image_fur`\n",
    "    for image in all_image_bloom:\n",
    "        src = image[\"src\"]\n",
    "        date = image[\"date\"].replace(\" \", \"_\").replace(\",\", \"\")  # Make date filename-friendly\n",
    "        file_name = f\"{date}.jpg\"  # Construct the image file name\n",
    "\n",
    "        try:\n",
    "            # Download the image\n",
    "            response = requests.get(src)\n",
    "            response.raise_for_status()  # Raise HTTPError for bad responses\n",
    "\n",
    "            # Save the image\n",
    "            with open(f\"downloaded_images/{file_name}\", \"wb\") as img_file:\n",
    "                img_file.write(response.content)\n",
    "\n",
    "            print(f\"Downloaded: {file_name}\")\n",
    "            \n",
    "            writer.writerow([image[\"date\"], src, file_name])\n",
    "        except requests.exceptions.RequestException as e:\n",
    "            print(f\"Failed to download {src}. Error: {e}\")\n",
    "            # failed download \n",
    "            writer.writerow([image[\"date\"], src, \"Download failed\"])\n",
    "\n",
    "print(f\"All images downloaded and metadata saved to {csv_file}\")"
   ]
  }
 ],
 "metadata": {
  "kernelspec": {
   "display_name": "base",
   "language": "python",
   "name": "python3"
  },
  "language_info": {
   "codemirror_mode": {
    "name": "ipython",
    "version": 3
   },
   "file_extension": ".py",
   "mimetype": "text/x-python",
   "name": "python",
   "nbconvert_exporter": "python",
   "pygments_lexer": "ipython3",
   "version": "3.12.2"
  }
 },
 "nbformat": 4,
 "nbformat_minor": 2
}
