{
 "cells": [
  {
   "cell_type": "code",
   "execution_count": 37,
   "metadata": {},
   "outputs": [],
   "source": [
    "import numpy as np\n",
    "import pandas as pd\n",
    "import requests\n",
    "from bs4 import BeautifulSoup\n",
    "import os"
   ]
  },
  {
   "cell_type": "code",
   "execution_count": 51,
   "metadata": {},
   "outputs": [
    {
     "name": "stdout",
     "output_type": "stream",
     "text": [
      "                  Country Name Country Code  \\\n",
      "0                        Aruba          ABW   \n",
      "1  Africa Eastern and Southern          AFE   \n",
      "2                  Afghanistan          AFG   \n",
      "3   Africa Western and Central          AFW   \n",
      "4                       Angola          AGO   \n",
      "\n",
      "                                      Indicator Name     Indicator Code  1960  \\\n",
      "0  Literacy rate, adult female (% of females ages...  SE.ADT.LITR.FE.ZS   NaN   \n",
      "1  Literacy rate, adult female (% of females ages...  SE.ADT.LITR.FE.ZS   NaN   \n",
      "2  Literacy rate, adult female (% of females ages...  SE.ADT.LITR.FE.ZS   NaN   \n",
      "3  Literacy rate, adult female (% of females ages...  SE.ADT.LITR.FE.ZS   NaN   \n",
      "4  Literacy rate, adult female (% of females ages...  SE.ADT.LITR.FE.ZS   NaN   \n",
      "\n",
      "   1961  1962  1963  1964  1965  ...       2015       2016       2017  \\\n",
      "0   NaN   NaN   NaN   NaN   NaN  ...        NaN        NaN        NaN   \n",
      "1   NaN   NaN   NaN   NaN   NaN  ...  64.124428  65.011276  65.215439   \n",
      "2   NaN   NaN   NaN   NaN   NaN  ...  17.086241        NaN        NaN   \n",
      "3   NaN   NaN   NaN   NaN   NaN  ...  45.681660  46.360519  47.375671   \n",
      "4   NaN   NaN   NaN   NaN   NaN  ...  51.925980        NaN        NaN   \n",
      "\n",
      "        2018       2019       2020       2021       2022       2023  \\\n",
      "0        NaN        NaN  98.000000        NaN        NaN        NaN   \n",
      "1  65.872192  67.269447  67.552330  67.457108  67.977257  68.425713   \n",
      "2        NaN        NaN        NaN  23.000000  26.596560        NaN   \n",
      "3  51.047100  51.050529  51.290138  51.630718  51.954781  52.201920   \n",
      "4        NaN        NaN        NaN        NaN  62.500000        NaN   \n",
      "\n",
      "   Unnamed: 68  \n",
      "0          NaN  \n",
      "1          NaN  \n",
      "2          NaN  \n",
      "3          NaN  \n",
      "4          NaN  \n",
      "\n",
      "[5 rows x 69 columns]\n"
     ]
    }
   ],
   "source": [
    "url = \"https://raw.githubusercontent.com/miswilson/miswilson.github.io/refs/heads/main/literacy_api.csv\"\n",
    "df = pd.read_csv(url)\n",
    "print(df.head())"
   ]
  },
  {
   "cell_type": "code",
   "execution_count": 52,
   "metadata": {},
   "outputs": [],
   "source": [
    "melted_df = pd.melt(df, id_vars=['Country Name', 'Country Code'], var_name='Date', value_name='Rates')"
   ]
  },
  {
   "cell_type": "code",
   "execution_count": 53,
   "metadata": {},
   "outputs": [
    {
     "name": "stdout",
     "output_type": "stream",
     "text": [
      "                  Country Name Country Code            Date  \\\n",
      "0                        Aruba          ABW  Indicator Name   \n",
      "1  Africa Eastern and Southern          AFE  Indicator Name   \n",
      "2                  Afghanistan          AFG  Indicator Name   \n",
      "3   Africa Western and Central          AFW  Indicator Name   \n",
      "4                       Angola          AGO  Indicator Name   \n",
      "\n",
      "                                               Rates  \n",
      "0  Literacy rate, adult female (% of females ages...  \n",
      "1  Literacy rate, adult female (% of females ages...  \n",
      "2  Literacy rate, adult female (% of females ages...  \n",
      "3  Literacy rate, adult female (% of females ages...  \n",
      "4  Literacy rate, adult female (% of females ages...  \n"
     ]
    }
   ],
   "source": [
    "\n"
   ]
  },
  {
   "cell_type": "code",
   "execution_count": null,
   "metadata": {},
   "outputs": [],
   "source": [
    "results = [country, code, date, lit_rate]"
   ]
  },
  {
   "cell_type": "code",
   "execution_count": 55,
   "metadata": {},
   "outputs": [
    {
     "name": "stdout",
     "output_type": "stream",
     "text": [
      "Columns in data1: Index(['Country Name', 'Country Code', 'Indicator Name', 'Indicator Code',\n",
      "       '1960', '1961', '1962', '1963', '1964', '1965', '1966', '1967', '1968',\n",
      "       '1969', '1970', '1971', '1972', '1973', '1974', '1975', '1976', '1977',\n",
      "       '1978', '1979', '1980', '1981', '1982', '1983', '1984', '1985', '1986',\n",
      "       '1987', '1988', '1989', '1990', '1991', '1992', '1993', '1994', '1995',\n",
      "       '1996', '1997', '1998', '1999', '2000', '2001', '2002', '2003', '2004',\n",
      "       '2005', '2006', '2007', '2008', '2009', '2010', '2011', '2012', '2013',\n",
      "       '2014', '2015', '2016', '2017', '2018', '2019', '2020', '2021', '2022',\n",
      "       '2023', 'Unnamed: 68'],\n",
      "      dtype='object')\n",
      "Columns in data2: Index(['country', 'code', 'dates', 'rate'], dtype='object')\n"
     ]
    },
    {
     "ename": "KeyError",
     "evalue": "'gender'",
     "output_type": "error",
     "traceback": [
      "\u001b[0;31m---------------------------------------------------------------------------\u001b[0m",
      "\u001b[0;31mKeyError\u001b[0m                                  Traceback (most recent call last)",
      "\u001b[0;32m/var/folders/h7/4782myqx56x_2h_460y3k_k00000gn/T/ipykernel_90969/1363843253.py\u001b[0m in \u001b[0;36m?\u001b[0;34m()\u001b[0m\n\u001b[1;32m     17\u001b[0m \u001b[0mdata1\u001b[0m \u001b[0;34m=\u001b[0m \u001b[0mdata1\u001b[0m\u001b[0;34m.\u001b[0m\u001b[0mrename\u001b[0m\u001b[0;34m(\u001b[0m\u001b[0mcolumns\u001b[0m\u001b[0;34m=\u001b[0m\u001b[0;34m{\u001b[0m\u001b[0;34m'OriginalColumnName1'\u001b[0m\u001b[0;34m:\u001b[0m \u001b[0;34m'gender'\u001b[0m\u001b[0;34m}\u001b[0m\u001b[0;34m)\u001b[0m\u001b[0;34m\u001b[0m\u001b[0;34m\u001b[0m\u001b[0m\n\u001b[1;32m     18\u001b[0m \u001b[0mdata2\u001b[0m \u001b[0;34m=\u001b[0m \u001b[0mdata2\u001b[0m\u001b[0;34m.\u001b[0m\u001b[0mrename\u001b[0m\u001b[0;34m(\u001b[0m\u001b[0mcolumns\u001b[0m\u001b[0;34m=\u001b[0m\u001b[0;34m{\u001b[0m\u001b[0;34m'OriginalColumnName2'\u001b[0m\u001b[0;34m:\u001b[0m \u001b[0;34m'gender'\u001b[0m\u001b[0;34m}\u001b[0m\u001b[0;34m)\u001b[0m\u001b[0;34m\u001b[0m\u001b[0;34m\u001b[0m\u001b[0m\n\u001b[1;32m     19\u001b[0m \u001b[0;34m\u001b[0m\u001b[0m\n\u001b[1;32m     20\u001b[0m \u001b[0;31m# Merge datasets on the 'gender' column\u001b[0m\u001b[0;34m\u001b[0m\u001b[0;34m\u001b[0m\u001b[0m\n\u001b[0;32m---> 21\u001b[0;31m \u001b[0mmerged_data\u001b[0m \u001b[0;34m=\u001b[0m \u001b[0mpd\u001b[0m\u001b[0;34m.\u001b[0m\u001b[0mmerge\u001b[0m\u001b[0;34m(\u001b[0m\u001b[0mdata1\u001b[0m\u001b[0;34m,\u001b[0m \u001b[0mdata2\u001b[0m\u001b[0;34m,\u001b[0m \u001b[0mon\u001b[0m\u001b[0;34m=\u001b[0m\u001b[0;34m'gender'\u001b[0m\u001b[0;34m,\u001b[0m \u001b[0mhow\u001b[0m\u001b[0;34m=\u001b[0m\u001b[0;34m'inner'\u001b[0m\u001b[0;34m)\u001b[0m\u001b[0;34m\u001b[0m\u001b[0;34m\u001b[0m\u001b[0m\n\u001b[0m\u001b[1;32m     22\u001b[0m \u001b[0;34m\u001b[0m\u001b[0m\n\u001b[1;32m     23\u001b[0m \u001b[0;31m# Display the first few rows of the combined data\u001b[0m\u001b[0;34m\u001b[0m\u001b[0;34m\u001b[0m\u001b[0m\n\u001b[1;32m     24\u001b[0m \u001b[0mprint\u001b[0m\u001b[0;34m(\u001b[0m\u001b[0mmerged_data\u001b[0m\u001b[0;34m.\u001b[0m\u001b[0mhead\u001b[0m\u001b[0;34m(\u001b[0m\u001b[0;34m)\u001b[0m\u001b[0;34m)\u001b[0m\u001b[0;34m\u001b[0m\u001b[0;34m\u001b[0m\u001b[0m\n",
      "\u001b[0;32m/opt/miniconda3/lib/python3.12/site-packages/pandas/core/reshape/merge.py\u001b[0m in \u001b[0;36m?\u001b[0;34m(left, right, how, on, left_on, right_on, left_index, right_index, sort, suffixes, copy, indicator, validate)\u001b[0m\n\u001b[1;32m    166\u001b[0m             \u001b[0mvalidate\u001b[0m\u001b[0;34m=\u001b[0m\u001b[0mvalidate\u001b[0m\u001b[0;34m,\u001b[0m\u001b[0;34m\u001b[0m\u001b[0;34m\u001b[0m\u001b[0m\n\u001b[1;32m    167\u001b[0m             \u001b[0mcopy\u001b[0m\u001b[0;34m=\u001b[0m\u001b[0mcopy\u001b[0m\u001b[0;34m,\u001b[0m\u001b[0;34m\u001b[0m\u001b[0;34m\u001b[0m\u001b[0m\n\u001b[1;32m    168\u001b[0m         \u001b[0;34m)\u001b[0m\u001b[0;34m\u001b[0m\u001b[0;34m\u001b[0m\u001b[0m\n\u001b[1;32m    169\u001b[0m     \u001b[0;32melse\u001b[0m\u001b[0;34m:\u001b[0m\u001b[0;34m\u001b[0m\u001b[0;34m\u001b[0m\u001b[0m\n\u001b[0;32m--> 170\u001b[0;31m         op = _MergeOperation(\n\u001b[0m\u001b[1;32m    171\u001b[0m             \u001b[0mleft_df\u001b[0m\u001b[0;34m,\u001b[0m\u001b[0;34m\u001b[0m\u001b[0;34m\u001b[0m\u001b[0m\n\u001b[1;32m    172\u001b[0m             \u001b[0mright_df\u001b[0m\u001b[0;34m,\u001b[0m\u001b[0;34m\u001b[0m\u001b[0;34m\u001b[0m\u001b[0m\n\u001b[1;32m    173\u001b[0m             \u001b[0mhow\u001b[0m\u001b[0;34m=\u001b[0m\u001b[0mhow\u001b[0m\u001b[0;34m,\u001b[0m\u001b[0;34m\u001b[0m\u001b[0;34m\u001b[0m\u001b[0m\n",
      "\u001b[0;32m/opt/miniconda3/lib/python3.12/site-packages/pandas/core/reshape/merge.py\u001b[0m in \u001b[0;36m?\u001b[0;34m(self, left, right, how, on, left_on, right_on, left_index, right_index, sort, suffixes, indicator, validate)\u001b[0m\n\u001b[1;32m    790\u001b[0m             \u001b[0mself\u001b[0m\u001b[0;34m.\u001b[0m\u001b[0mright_join_keys\u001b[0m\u001b[0;34m,\u001b[0m\u001b[0;34m\u001b[0m\u001b[0;34m\u001b[0m\u001b[0m\n\u001b[1;32m    791\u001b[0m             \u001b[0mself\u001b[0m\u001b[0;34m.\u001b[0m\u001b[0mjoin_names\u001b[0m\u001b[0;34m,\u001b[0m\u001b[0;34m\u001b[0m\u001b[0;34m\u001b[0m\u001b[0m\n\u001b[1;32m    792\u001b[0m             \u001b[0mleft_drop\u001b[0m\u001b[0;34m,\u001b[0m\u001b[0;34m\u001b[0m\u001b[0;34m\u001b[0m\u001b[0m\n\u001b[1;32m    793\u001b[0m             \u001b[0mright_drop\u001b[0m\u001b[0;34m,\u001b[0m\u001b[0;34m\u001b[0m\u001b[0;34m\u001b[0m\u001b[0m\n\u001b[0;32m--> 794\u001b[0;31m         \u001b[0;34m)\u001b[0m \u001b[0;34m=\u001b[0m \u001b[0mself\u001b[0m\u001b[0;34m.\u001b[0m\u001b[0m_get_merge_keys\u001b[0m\u001b[0;34m(\u001b[0m\u001b[0;34m)\u001b[0m\u001b[0;34m\u001b[0m\u001b[0;34m\u001b[0m\u001b[0m\n\u001b[0m\u001b[1;32m    795\u001b[0m \u001b[0;34m\u001b[0m\u001b[0m\n\u001b[1;32m    796\u001b[0m         \u001b[0;32mif\u001b[0m \u001b[0mleft_drop\u001b[0m\u001b[0;34m:\u001b[0m\u001b[0;34m\u001b[0m\u001b[0;34m\u001b[0m\u001b[0m\n\u001b[1;32m    797\u001b[0m             \u001b[0mself\u001b[0m\u001b[0;34m.\u001b[0m\u001b[0mleft\u001b[0m \u001b[0;34m=\u001b[0m \u001b[0mself\u001b[0m\u001b[0;34m.\u001b[0m\u001b[0mleft\u001b[0m\u001b[0;34m.\u001b[0m\u001b[0m_drop_labels_or_levels\u001b[0m\u001b[0;34m(\u001b[0m\u001b[0mleft_drop\u001b[0m\u001b[0;34m)\u001b[0m\u001b[0;34m\u001b[0m\u001b[0;34m\u001b[0m\u001b[0m\n",
      "\u001b[0;32m/opt/miniconda3/lib/python3.12/site-packages/pandas/core/reshape/merge.py\u001b[0m in \u001b[0;36m?\u001b[0;34m(self)\u001b[0m\n\u001b[1;32m   1293\u001b[0m                         \u001b[0;31m# Then we're either Hashable or a wrong-length arraylike,\u001b[0m\u001b[0;34m\u001b[0m\u001b[0;34m\u001b[0m\u001b[0m\n\u001b[1;32m   1294\u001b[0m                         \u001b[0;31m#  the latter of which will raise\u001b[0m\u001b[0;34m\u001b[0m\u001b[0;34m\u001b[0m\u001b[0m\n\u001b[1;32m   1295\u001b[0m                         \u001b[0mrk\u001b[0m \u001b[0;34m=\u001b[0m \u001b[0mcast\u001b[0m\u001b[0;34m(\u001b[0m\u001b[0mHashable\u001b[0m\u001b[0;34m,\u001b[0m \u001b[0mrk\u001b[0m\u001b[0;34m)\u001b[0m\u001b[0;34m\u001b[0m\u001b[0;34m\u001b[0m\u001b[0m\n\u001b[1;32m   1296\u001b[0m                         \u001b[0;32mif\u001b[0m \u001b[0mrk\u001b[0m \u001b[0;32mis\u001b[0m \u001b[0;32mnot\u001b[0m \u001b[0;32mNone\u001b[0m\u001b[0;34m:\u001b[0m\u001b[0;34m\u001b[0m\u001b[0;34m\u001b[0m\u001b[0m\n\u001b[0;32m-> 1297\u001b[0;31m                             \u001b[0mright_keys\u001b[0m\u001b[0;34m.\u001b[0m\u001b[0mappend\u001b[0m\u001b[0;34m(\u001b[0m\u001b[0mright\u001b[0m\u001b[0;34m.\u001b[0m\u001b[0m_get_label_or_level_values\u001b[0m\u001b[0;34m(\u001b[0m\u001b[0mrk\u001b[0m\u001b[0;34m)\u001b[0m\u001b[0;34m)\u001b[0m\u001b[0;34m\u001b[0m\u001b[0;34m\u001b[0m\u001b[0m\n\u001b[0m\u001b[1;32m   1298\u001b[0m                         \u001b[0;32melse\u001b[0m\u001b[0;34m:\u001b[0m\u001b[0;34m\u001b[0m\u001b[0;34m\u001b[0m\u001b[0m\n\u001b[1;32m   1299\u001b[0m                             \u001b[0;31m# work-around for merge_asof(right_index=True)\u001b[0m\u001b[0;34m\u001b[0m\u001b[0;34m\u001b[0m\u001b[0m\n\u001b[1;32m   1300\u001b[0m                             \u001b[0mright_keys\u001b[0m\u001b[0;34m.\u001b[0m\u001b[0mappend\u001b[0m\u001b[0;34m(\u001b[0m\u001b[0mright\u001b[0m\u001b[0;34m.\u001b[0m\u001b[0mindex\u001b[0m\u001b[0;34m.\u001b[0m\u001b[0m_values\u001b[0m\u001b[0;34m)\u001b[0m\u001b[0;34m\u001b[0m\u001b[0;34m\u001b[0m\u001b[0m\n",
      "\u001b[0;32m/opt/miniconda3/lib/python3.12/site-packages/pandas/core/generic.py\u001b[0m in \u001b[0;36m?\u001b[0;34m(self, key, axis)\u001b[0m\n\u001b[1;32m   1907\u001b[0m             \u001b[0mvalues\u001b[0m \u001b[0;34m=\u001b[0m \u001b[0mself\u001b[0m\u001b[0;34m.\u001b[0m\u001b[0mxs\u001b[0m\u001b[0;34m(\u001b[0m\u001b[0mkey\u001b[0m\u001b[0;34m,\u001b[0m \u001b[0maxis\u001b[0m\u001b[0;34m=\u001b[0m\u001b[0mother_axes\u001b[0m\u001b[0;34m[\u001b[0m\u001b[0;36m0\u001b[0m\u001b[0;34m]\u001b[0m\u001b[0;34m)\u001b[0m\u001b[0;34m.\u001b[0m\u001b[0m_values\u001b[0m\u001b[0;34m\u001b[0m\u001b[0;34m\u001b[0m\u001b[0m\n\u001b[1;32m   1908\u001b[0m         \u001b[0;32melif\u001b[0m \u001b[0mself\u001b[0m\u001b[0;34m.\u001b[0m\u001b[0m_is_level_reference\u001b[0m\u001b[0;34m(\u001b[0m\u001b[0mkey\u001b[0m\u001b[0;34m,\u001b[0m \u001b[0maxis\u001b[0m\u001b[0;34m=\u001b[0m\u001b[0maxis\u001b[0m\u001b[0;34m)\u001b[0m\u001b[0;34m:\u001b[0m\u001b[0;34m\u001b[0m\u001b[0;34m\u001b[0m\u001b[0m\n\u001b[1;32m   1909\u001b[0m             \u001b[0mvalues\u001b[0m \u001b[0;34m=\u001b[0m \u001b[0mself\u001b[0m\u001b[0;34m.\u001b[0m\u001b[0maxes\u001b[0m\u001b[0;34m[\u001b[0m\u001b[0maxis\u001b[0m\u001b[0;34m]\u001b[0m\u001b[0;34m.\u001b[0m\u001b[0mget_level_values\u001b[0m\u001b[0;34m(\u001b[0m\u001b[0mkey\u001b[0m\u001b[0;34m)\u001b[0m\u001b[0;34m.\u001b[0m\u001b[0m_values\u001b[0m\u001b[0;34m\u001b[0m\u001b[0;34m\u001b[0m\u001b[0m\n\u001b[1;32m   1910\u001b[0m         \u001b[0;32melse\u001b[0m\u001b[0;34m:\u001b[0m\u001b[0;34m\u001b[0m\u001b[0;34m\u001b[0m\u001b[0m\n\u001b[0;32m-> 1911\u001b[0;31m             \u001b[0;32mraise\u001b[0m \u001b[0mKeyError\u001b[0m\u001b[0;34m(\u001b[0m\u001b[0mkey\u001b[0m\u001b[0;34m)\u001b[0m\u001b[0;34m\u001b[0m\u001b[0;34m\u001b[0m\u001b[0m\n\u001b[0m\u001b[1;32m   1912\u001b[0m \u001b[0;34m\u001b[0m\u001b[0m\n\u001b[1;32m   1913\u001b[0m         \u001b[0;31m# Check for duplicates\u001b[0m\u001b[0;34m\u001b[0m\u001b[0;34m\u001b[0m\u001b[0m\n\u001b[1;32m   1914\u001b[0m         \u001b[0;32mif\u001b[0m \u001b[0mvalues\u001b[0m\u001b[0;34m.\u001b[0m\u001b[0mndim\u001b[0m \u001b[0;34m>\u001b[0m \u001b[0;36m1\u001b[0m\u001b[0;34m:\u001b[0m\u001b[0;34m\u001b[0m\u001b[0;34m\u001b[0m\u001b[0m\n",
      "\u001b[0;31mKeyError\u001b[0m: 'gender'"
     ]
    }
   ],
   "source": [
    "import pandas as pd\n",
    "\n",
    "# URLs to the raw data files\n",
    "url1 = 'https://raw.githubusercontent.com/miswilson/miswilson.github.io/refs/heads/main/api_total_adult_rates.csv'\n",
    "url2 = 'https://raw.githubusercontent.com/miswilson/miswilson.github.io/refs/heads/main/cleaned_literacy_data.csv'\n",
    "\n",
    "# Load the datasets, skipping the first 4 rows of the first dataset\n",
    "data1 = pd.read_csv(url1, skiprows=4)\n",
    "data2 = pd.read_csv(url2)\n",
    "\n",
    "# Display column names to identify potential common columns for merging\n",
    "print(\"Columns in data1:\", data1.columns)\n",
    "print(\"Columns in data2:\", data2.columns)\n",
    "\n",
    "# After identifying the appropriate columns, rename them to 'gender'\n",
    "# Replace 'OriginalColumnName1' and 'OriginalColumnName2' with the actual column names you want to merge on\n",
    "data1 = data1.rename(columns={'OriginalColumnName1': 'gender'})\n",
    "data2 = data2.rename(columns={'OriginalColumnName2': 'gender'})\n",
    "\n",
    "# Merge datasets on the 'gender' column\n",
    "merged_data = pd.merge(data1, data2, on='gender', how='inner')\n",
    "\n",
    "# Display the first few rows of the combined data\n",
    "print(merged_data.head())\n",
    "\n"
   ]
  },
  {
   "cell_type": "code",
   "execution_count": 57,
   "metadata": {},
   "outputs": [
    {
     "name": "stdout",
     "output_type": "stream",
     "text": [
      "                  Country Name Country Code  \\\n",
      "0                        Aruba          ABW   \n",
      "1  Africa Eastern and Southern          AFE   \n",
      "2                  Afghanistan          AFG   \n",
      "3   Africa Western and Central          AFW   \n",
      "4                       Angola          AGO   \n",
      "\n",
      "                                      Indicator Name  Indicator Code  1960  \\\n",
      "0  Literacy rate, adult total (% of people ages 1...  SE.ADT.LITR.ZS   NaN   \n",
      "1  Literacy rate, adult total (% of people ages 1...  SE.ADT.LITR.ZS   NaN   \n",
      "2  Literacy rate, adult total (% of people ages 1...  SE.ADT.LITR.ZS   NaN   \n",
      "3  Literacy rate, adult total (% of people ages 1...  SE.ADT.LITR.ZS   NaN   \n",
      "4  Literacy rate, adult total (% of people ages 1...  SE.ADT.LITR.ZS   NaN   \n",
      "\n",
      "   1961  1962  1963  1964  1965  ...       2015       2016       2017  \\\n",
      "0   NaN   NaN   NaN   NaN   NaN  ...        NaN        NaN        NaN   \n",
      "1   NaN   NaN   NaN   NaN   NaN  ...  70.447090  71.105171  71.029984   \n",
      "2   NaN   NaN   NaN   NaN   NaN  ...  33.753841        NaN        NaN   \n",
      "3   NaN   NaN   NaN   NaN   NaN  ...  55.006618  55.465778  56.472198   \n",
      "4   NaN   NaN   NaN   NaN   NaN  ...  66.235863        NaN        NaN   \n",
      "\n",
      "        2018       2019       2020       2021       2022       2023  \\\n",
      "0        NaN        NaN  97.989998        NaN        NaN        NaN   \n",
      "1  71.495399  72.658661  72.855759  72.638908  72.981560  73.275108   \n",
      "2        NaN        NaN        NaN  37.000000        NaN        NaN   \n",
      "3  59.747349  59.553669  59.703239  60.007320  60.290852  60.505550   \n",
      "4        NaN        NaN        NaN        NaN  72.400002        NaN   \n",
      "\n",
      "   Unnamed: 68  \n",
      "0          NaN  \n",
      "1          NaN  \n",
      "2          NaN  \n",
      "3          NaN  \n",
      "4          NaN  \n",
      "\n",
      "[5 rows x 69 columns]\n",
      "                  Country Name Country Code            Date  \\\n",
      "0                        Aruba          ABW  Indicator Name   \n",
      "1  Africa Eastern and Southern          AFE  Indicator Name   \n",
      "2                  Afghanistan          AFG  Indicator Name   \n",
      "3   Africa Western and Central          AFW  Indicator Name   \n",
      "4                       Angola          AGO  Indicator Name   \n",
      "\n",
      "                                               Rates  \n",
      "0  Literacy rate, adult female (% of females ages...  \n",
      "1  Literacy rate, adult female (% of females ages...  \n",
      "2  Literacy rate, adult female (% of females ages...  \n",
      "3  Literacy rate, adult female (% of females ages...  \n",
      "4  Literacy rate, adult female (% of females ages...  \n"
     ]
    }
   ],
   "source": [
    "import pandas as pd\n",
    "\n",
    "# URL or file path to the CSV file\n",
    "url = 'https://raw.githubusercontent.com/miswilson/miswilson.github.io/refs/heads/main/api_total_adult_rates.csv'\n",
    "\n",
    "# Load the CSV file, skipping the first 4 rows\n",
    "data = pd.read_csv(url, skiprows=4)\n",
    "\n",
    "# Display the first few rows of the cleaned data to confirm the first 4 rows have been removed\n",
    "print(data.head())\n",
    "\n",
    "melted_df = pd.melt(df, id_vars=['Country Name', 'Country Code'], var_name='Date', value_name='Rates')\n",
    "\n",
    "print(melted_df.head())"
   ]
  },
  {
   "cell_type": "code",
   "execution_count": 59,
   "metadata": {},
   "outputs": [
    {
     "name": "stdout",
     "output_type": "stream",
     "text": [
      "Original Data:\n",
      "                  Country Name Country Code  \\\n",
      "0                        Aruba          ABW   \n",
      "1  Africa Eastern and Southern          AFE   \n",
      "2                  Afghanistan          AFG   \n",
      "3   Africa Western and Central          AFW   \n",
      "4                       Angola          AGO   \n",
      "\n",
      "                                      Indicator Name  Indicator Code  1960  \\\n",
      "0  Literacy rate, adult total (% of people ages 1...  SE.ADT.LITR.ZS   NaN   \n",
      "1  Literacy rate, adult total (% of people ages 1...  SE.ADT.LITR.ZS   NaN   \n",
      "2  Literacy rate, adult total (% of people ages 1...  SE.ADT.LITR.ZS   NaN   \n",
      "3  Literacy rate, adult total (% of people ages 1...  SE.ADT.LITR.ZS   NaN   \n",
      "4  Literacy rate, adult total (% of people ages 1...  SE.ADT.LITR.ZS   NaN   \n",
      "\n",
      "   1961  1962  1963  1964  1965  ...       2015       2016       2017  \\\n",
      "0   NaN   NaN   NaN   NaN   NaN  ...        NaN        NaN        NaN   \n",
      "1   NaN   NaN   NaN   NaN   NaN  ...  70.447090  71.105171  71.029984   \n",
      "2   NaN   NaN   NaN   NaN   NaN  ...  33.753841        NaN        NaN   \n",
      "3   NaN   NaN   NaN   NaN   NaN  ...  55.006618  55.465778  56.472198   \n",
      "4   NaN   NaN   NaN   NaN   NaN  ...  66.235863        NaN        NaN   \n",
      "\n",
      "        2018       2019       2020       2021       2022       2023  \\\n",
      "0        NaN        NaN  97.989998        NaN        NaN        NaN   \n",
      "1  71.495399  72.658661  72.855759  72.638908  72.981560  73.275108   \n",
      "2        NaN        NaN        NaN  37.000000        NaN        NaN   \n",
      "3  59.747349  59.553669  59.703239  60.007320  60.290852  60.505550   \n",
      "4        NaN        NaN        NaN        NaN  72.400002        NaN   \n",
      "\n",
      "   Unnamed: 68  \n",
      "0          NaN  \n",
      "1          NaN  \n",
      "2          NaN  \n",
      "3          NaN  \n",
      "4          NaN  \n",
      "\n",
      "[5 rows x 69 columns]\n",
      "Melted Data:\n",
      "                  Country Name Country Code            Date  \\\n",
      "0                        Aruba          ABW  Indicator Name   \n",
      "1  Africa Eastern and Southern          AFE  Indicator Name   \n",
      "2                  Afghanistan          AFG  Indicator Name   \n",
      "3   Africa Western and Central          AFW  Indicator Name   \n",
      "4                       Angola          AGO  Indicator Name   \n",
      "\n",
      "                                               Rates  \n",
      "0  Literacy rate, adult total (% of people ages 1...  \n",
      "1  Literacy rate, adult total (% of people ages 1...  \n",
      "2  Literacy rate, adult total (% of people ages 1...  \n",
      "3  Literacy rate, adult total (% of people ages 1...  \n",
      "4  Literacy rate, adult total (% of people ages 1...  \n",
      "The file has been saved as 'cleaned_total_lit.csv'\n"
     ]
    }
   ],
   "source": [
    "import pandas as pd\n",
    "\n",
    "# URL to the CSV file\n",
    "url = 'https://raw.githubusercontent.com/miswilson/miswilson.github.io/refs/heads/main/api_total_adult_rates.csv'\n",
    "\n",
    "# Load the CSV file, skipping the first 4 rows\n",
    "data = pd.read_csv(url, skiprows=4)\n",
    "\n",
    "# Display the first few rows of the cleaned data to confirm the first 4 rows have been removed\n",
    "print(\"Original Data:\")\n",
    "print(data.head())\n",
    "\n",
    "# Melt the dataframe to reshape it\n",
    "melted_df = pd.melt(data, id_vars=['Country Name', 'Country Code'], var_name='Date', value_name='Rates')\n",
    "\n",
    "# Display the first few rows of the melted data\n",
    "print(\"Melted Data:\")\n",
    "print(melted_df.head())\n",
    "\n",
    "# Save the melted dataframe to a CSV file\n",
    "melted_df.to_csv('cleaned_total_lit.csv', index=False)\n",
    "print(\"The file has been saved as 'cleaned_total_lit.csv'\")\n"
   ]
  }
 ],
 "metadata": {
  "kernelspec": {
   "display_name": "base",
   "language": "python",
   "name": "python3"
  },
  "language_info": {
   "codemirror_mode": {
    "name": "ipython",
    "version": 3
   },
   "file_extension": ".py",
   "mimetype": "text/x-python",
   "name": "python",
   "nbconvert_exporter": "python",
   "pygments_lexer": "ipython3",
   "version": "3.12.2"
  }
 },
 "nbformat": 4,
 "nbformat_minor": 2
}
