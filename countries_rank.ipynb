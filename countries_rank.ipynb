{
 "cells": [
  {
   "cell_type": "code",
   "execution_count": 16,
   "metadata": {},
   "outputs": [],
   "source": [
    "from selenium import webdriver\n",
    "from selenium.webdriver.common.by import By\n",
    "import csv\n",
    "import time\n",
    "from selenium.webdriver.support.ui import WebDriverWait\n",
    "from selenium.webdriver.support import expected_conditions as EC\n",
    "from selenium.common.exceptions import TimeoutException, NoSuchElementException\n"
   ]
  },
  {
   "cell_type": "code",
   "execution_count": 17,
   "metadata": {},
   "outputs": [],
   "source": [
    "driver = webdriver.Chrome() \n",
    "driver.get(\"https://www.usnews.com/news/best-countries/rankings/fashionable\")"
   ]
  },
  {
   "cell_type": "code",
   "execution_count": 19,
   "metadata": {},
   "outputs": [],
   "source": [
    "# Extract country data\n",
    "countries = driver.find_elements(By.CLASS_NAME, \"rankings__card\")\n",
    "data = []\n",
    "\n",
    "for country in countries:\n",
    "    name = country.find_element(By.CLASS_NAME, \"rankings__title\").text\n",
    "    fashionable_rank = country.find_element(By.CLASS_NAME, \"rankings__rank\").text\n",
    "    overall_rank = country.find_element(By.CLASS_NAME, \"rankings__description\").text.split(\"#\")[1].split()[0]\n"
   ]
  },
  {
   "cell_type": "code",
   "execution_count": 22,
   "metadata": {},
   "outputs": [
    {
     "name": "stdout",
     "output_type": "stream",
     "text": [
      "Data saved to fashionable_countries.csv\n"
     ]
    }
   ],
   "source": [
    "# Assuming this part of the code handles the data scraping and storing it in 'data' list\n",
    "\n",
    "# Write the scraped data to a CSV file\n",
    "csv_file = \"fashionable_countries.csv\"\n",
    "with open(csv_file, mode=\"w\", newline=\"\", encoding=\"utf-8\") as file:\n",
    "    # Create a CSV writer object\n",
    "    writer = csv.DictWriter(file, fieldnames=[\"Country\", \"Fashionable Rank\", \"Overall Rank\", \"GDP\", \"GDP per Capita, PPP\", \"Population\"])\n",
    "    \n",
    "    # Write the header (column names) to the CSV file\n",
    "    writer.writeheader()\n",
    "    \n",
    "    # Write the data rows to the CSV file\n",
    "    writer.writerows(data)\n",
    "\n",
    "print(f\"Data saved to {csv_file}\")\n",
    "\n",
    "# Close the WebDriver after scraping\n",
    "driver.quit()\n"
   ]
  },
  {
   "cell_type": "code",
   "execution_count": 21,
   "metadata": {},
   "outputs": [
    {
     "ename": "IndentationError",
     "evalue": "expected an indented block after 'with' statement on line 19 (226032783.py, line 20)",
     "output_type": "error",
     "traceback": [
      "\u001b[0;36m  Cell \u001b[0;32mIn[21], line 20\u001b[0;36m\u001b[0m\n\u001b[0;31m    writer = csv.DictWriter(file, fieldnames=[\"Country\", \"Rank\", \"Overall Rank\", \"GDP\", \"GDP per Capita, PPP\", \"Population\"])\u001b[0m\n\u001b[0m    ^\u001b[0m\n\u001b[0;31mIndentationError\u001b[0m\u001b[0;31m:\u001b[0m expected an indented block after 'with' statement on line 19\n"
     ]
    }
   ],
   "source": [
    "    # Extract GDP, GDP per capita (PPP), and population\n",
    "    details = country.find_elements(By.CLASS_NAME, \"rankings__stat\")\n",
    "    gdp = details[0].text.split(\"\\n\")[-1]\n",
    "    ppp = details[1].text.split(\"\\n\")[-1]\n",
    "    population = details[2].text.split(\"\\n\")[-1]\n",
    "    \n",
    "    # Append data\n",
    "    data.append({\n",
    "        \"Country\": name,\n",
    "        \"Fashionable Rank\": fashionable_rank,\n",
    "        \"Overall Rank\": overall_rank,\n",
    "        \"GDP\": gdp,\n",
    "        \"GDP per Capita, PPP\": ppp,\n",
    "        \"Population\": population,\n",
    "    })\n",
    "\n",
    "# Write to CSV\n",
    "csv_file = \"fashionable_countries.csv\"\n",
    "with open(csv_file, mode=\"w\", newline=\"\", encoding=\"utf-8\") as file:\n",
    "    writer = csv.DictWriter(file, fieldnames=[\"Country\", \"Rank\", \"Overall Rank\", \"GDP\", \"GDP per Capita, PPP\", \"Population\"])\n",
    "    writer.writeheader()\n",
    "    writer.writerows(data)\n",
    "\n",
    "print(f\"Data saved to {csv_file}\")\n",
    "\n",
    "# Close the driver\n",
    "driver.quit()"
   ]
  }
 ],
 "metadata": {
  "kernelspec": {
   "display_name": "base",
   "language": "python",
   "name": "python3"
  },
  "language_info": {
   "codemirror_mode": {
    "name": "ipython",
    "version": 3
   },
   "file_extension": ".py",
   "mimetype": "text/x-python",
   "name": "python",
   "nbconvert_exporter": "python",
   "pygments_lexer": "ipython3",
   "version": "3.12.2"
  }
 },
 "nbformat": 4,
 "nbformat_minor": 2
}
