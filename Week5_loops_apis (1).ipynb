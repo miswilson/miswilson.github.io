{
 "cells": [
  {
   "cell_type": "markdown",
   "metadata": {},
   "source": [
    "<a href=\"https://colab.research.google.com/github/jhellingsdata/RADataHub/blob/main/misc/loops_apis.ipynb\" target=\"_blank\"><img src=\"https://colab.research.google.com/assets/colab-badge.svg\" alt=\"Open In Colab\"/></a>"
   ]
  },
  {
   "cell_type": "markdown",
   "metadata": {},
   "source": [
    "**Richard Davies** Data Science Masterclass - 2024\n",
    "\n",
    "In this notebook we download a chart that we like and want to recreate, then looping over a list of countries to create multiple copies using different API-linked datasets."
   ]
  },
  {
   "cell_type": "markdown",
   "metadata": {},
   "source": [
    "<br>\n",
    "<br>\n",
    "\n",
    "### Preparatory Steps\n",
    "\n",
    "There are a few add-ons to Python that we import to our session at the start. Run this to prepare your session for what follows."
   ]
  },
  {
   "cell_type": "code",
   "execution_count": 1,
   "metadata": {},
   "outputs": [
    {
     "name": "stdout",
     "output_type": "stream",
     "text": [
      "Requirement already satisfied: altair in /Users/finn/anaconda3/lib/python3.11/site-packages (5.0.1)\n",
      "Requirement already satisfied: jinja2 in /Users/finn/anaconda3/lib/python3.11/site-packages (from altair) (3.1.2)\n",
      "Requirement already satisfied: jsonschema>=3.0 in /Users/finn/anaconda3/lib/python3.11/site-packages (from altair) (4.23.0)\n",
      "Requirement already satisfied: numpy in /Users/finn/anaconda3/lib/python3.11/site-packages (from altair) (1.26.4)\n",
      "Requirement already satisfied: pandas>=0.18 in /Users/finn/anaconda3/lib/python3.11/site-packages (from altair) (2.1.2)\n",
      "Requirement already satisfied: toolz in /Users/finn/anaconda3/lib/python3.11/site-packages (from altair) (0.12.0)\n",
      "Requirement already satisfied: attrs>=22.2.0 in /Users/finn/anaconda3/lib/python3.11/site-packages (from jsonschema>=3.0->altair) (24.2.0)\n",
      "Requirement already satisfied: jsonschema-specifications>=2023.03.6 in /Users/finn/anaconda3/lib/python3.11/site-packages (from jsonschema>=3.0->altair) (2023.12.1)\n",
      "Requirement already satisfied: referencing>=0.28.4 in /Users/finn/anaconda3/lib/python3.11/site-packages (from jsonschema>=3.0->altair) (0.35.1)\n",
      "Requirement already satisfied: rpds-py>=0.7.1 in /Users/finn/anaconda3/lib/python3.11/site-packages (from jsonschema>=3.0->altair) (0.20.0)\n",
      "Requirement already satisfied: python-dateutil>=2.8.2 in /Users/finn/anaconda3/lib/python3.11/site-packages (from pandas>=0.18->altair) (2.8.2)\n",
      "Requirement already satisfied: pytz>=2020.1 in /Users/finn/anaconda3/lib/python3.11/site-packages (from pandas>=0.18->altair) (2022.7)\n",
      "Requirement already satisfied: tzdata>=2022.1 in /Users/finn/anaconda3/lib/python3.11/site-packages (from pandas>=0.18->altair) (2023.3)\n",
      "Requirement already satisfied: MarkupSafe>=2.0 in /Users/finn/anaconda3/lib/python3.11/site-packages (from jinja2->altair) (2.1.1)\n",
      "Requirement already satisfied: six>=1.5 in /Users/finn/anaconda3/lib/python3.11/site-packages (from python-dateutil>=2.8.2->pandas>=0.18->altair) (1.16.0)\n",
      "Note: you may need to restart the kernel to use updated packages.\n"
     ]
    }
   ],
   "source": [
    "# 1. PREPARATORY STEPS - ACCESS PACKAGES WE NEED\n",
    "\n",
    "## // The \"requests\" package, for opening web sites and retrieving information:\n",
    "import requests\n",
    "\n",
    "## // The \"json\" package, for helping us: make JSON easier to read, converting to JSON from Python data (dictionaries).\n",
    "import json\n",
    "\n",
    "## /// Altair. This is a way of visualiting Vega charts in Colab\n",
    "%pip install altair   # Some packagaes need to be installed to the virtual machine before we can import them into our notebook. We can do this with '!pip install'\n",
    "import altair as alt"
   ]
  },
  {
   "cell_type": "markdown",
   "metadata": {},
   "source": [
    "<br>\n",
    "<br>\n",
    "\n",
    "## Background: Lists\n",
    "\n",
    "Lists are a simple datatype. These are written with comma separated values (items) between square brackets. Just like with numbers or strings, we can assign these to a variable using =.\n",
    "\n",
    "In the code below we have a list of places. We define a variable \"locations\" and assign our list to this variable."
   ]
  },
  {
   "cell_type": "code",
   "execution_count": 2,
   "metadata": {},
   "outputs": [
    {
     "name": "stdout",
     "output_type": "stream",
     "text": [
      "['London', 'Cardiff', 'Belfast']\n"
     ]
    }
   ],
   "source": [
    "locations = [\"London\", \"Cardiff\", \"Belfast\"]   # Creating a list of locations\n",
    "\n",
    "# We have a list of locations, let's print these out\n",
    "print(locations)"
   ]
  },
  {
   "cell_type": "markdown",
   "metadata": {},
   "source": [
    "<br>\n",
    "<br>\n",
    "\n",
    "### Printing items from a list\n",
    "\n",
    "If we want to retrieve individual items in the list, we use \"indexing\".\n",
    "\n",
    "**Note:** One rule to remember is that indexing starts at 0. So the array above has positions 0, 1 and 2. Asking for position 3--which would seem to be London--will throw an error."
   ]
  },
  {
   "cell_type": "code",
   "execution_count": 3,
   "metadata": {},
   "outputs": [
    {
     "name": "stdout",
     "output_type": "stream",
     "text": [
      "London\n",
      "Belfast\n",
      "Cardiff\n"
     ]
    }
   ],
   "source": [
    "print(locations[0])\n",
    "print(locations[2])\n",
    "print(locations[1])"
   ]
  },
  {
   "cell_type": "markdown",
   "metadata": {},
   "source": [
    "<br>\n",
    "<br>\n",
    "\n",
    "### Loops\n",
    "\n",
    "Any time we have repetitive code like that above, we should consider a loop. This is not just to show off. Manually copying code like the above leads to errors, and it is time consuming. Loops make you more accurate, and more efficient.\n",
    "\n",
    "With the \"for\" loop we can execute a set of statements, once for each item in a list."
   ]
  },
  {
   "cell_type": "code",
   "execution_count": 4,
   "metadata": {},
   "outputs": [
    {
     "name": "stdout",
     "output_type": "stream",
     "text": [
      "Darlington\n",
      "London\n",
      "Newport\n"
     ]
    }
   ],
   "source": [
    "## Here is our first loop:\n",
    "\n",
    "locations = [\"Darlington\", \"London\", \"Newport\"]\n",
    "\n",
    "for i in locations:\n",
    "  print(i)"
   ]
  },
  {
   "cell_type": "markdown",
   "metadata": {},
   "source": [
    "### Format strings in Python\n",
    "\n",
    "To get the most out of loops, we will want to change strings in each iteration. To do this we can use something called F-strings. You can read about this [here](https://realpython.com/python-f-strings/)."
   ]
  },
  {
   "cell_type": "code",
   "execution_count": 5,
   "metadata": {},
   "outputs": [
    {
     "name": "stdout",
     "output_type": "stream",
     "text": [
      "The best rugby team in the world is Wales\n"
     ]
    }
   ],
   "source": [
    "best_team = 'Wales'\n",
    "\n",
    "print(f\"The best rugby team in the world is {best_team}\")"
   ]
  },
  {
   "cell_type": "markdown",
   "metadata": {},
   "source": [
    "<br>\n",
    "<br>\n",
    "\n",
    "### A loop with F-strings:\n",
    "We next combine the formatting a loop, in this case to print out a list of claims about football teams."
   ]
  },
  {
   "cell_type": "code",
   "execution_count": 6,
   "metadata": {},
   "outputs": [
    {
     "name": "stdout",
     "output_type": "stream",
     "text": [
      "The best team is Man Utd\n",
      "The best team is AC Milan\n",
      "The best team is Barcelona\n",
      "The best team is PSG\n",
      "The best team is Bayern\n",
      "The best team is River Plate\n"
     ]
    }
   ],
   "source": [
    "# Define a list of team names.\n",
    "teams = ['Man Utd', 'AC Milan', 'Barcelona', 'PSG', 'Bayern', 'River Plate']\n",
    "\n",
    "# Finally, create a loop where we deal with the teams one by one.\n",
    "for i in teams:\n",
    "    print(f\"The best team is {i}\")"
   ]
  },
  {
   "cell_type": "markdown",
   "metadata": {},
   "source": [
    "## Background: Dictionaries"
   ]
  },
  {
   "cell_type": "markdown",
   "metadata": {},
   "source": [
    "Dictionaries are another built-in data type. Dictionaries are used to store data values in key:value pairs. They look at lot like the `JSON` structure we've worked with for Vega-lite specs."
   ]
  },
  {
   "cell_type": "code",
   "execution_count": 7,
   "metadata": {},
   "outputs": [
    {
     "name": "stdout",
     "output_type": "stream",
     "text": [
      "{'borough': 'X', 'city': 'London', 'temperature': 5, 'country': 'England'}\n",
      "\n",
      "\n"
     ]
    }
   ],
   "source": [
    "## Create an example dictionary, using the dict() constructor:\n",
    "x = dict(borough=\"X\", city = \"London\", temperature = 5, country = \"England\")\n",
    "print(x)\n",
    "print('\\n')\n",
    "\n",
    "## This is the same as \n",
    "x = {\n",
    "    \"borough\": \"X\",\n",
    "    \"city\": \"London\",\n",
    "    \"temperature\": 5,\n",
    "    \"country\": \"England\"\n",
    "}"
   ]
  },
  {
   "cell_type": "markdown",
   "metadata": {},
   "source": [
    "<br>\n",
    "<br>\n",
    "\n",
    "### Loop + Dictionary\n",
    "\n",
    "Now we can combine a loop and a dictionary to make multiple different, but similar, dictionaries.\n",
    "\n",
    "*(To see why this is useful, recall from before that ALL we need to make a different chart is a different data source, and that this is just a value in a JSON object.)*\n"
   ]
  },
  {
   "cell_type": "code",
   "execution_count": 10,
   "metadata": {},
   "outputs": [
    {
     "name": "stdout",
     "output_type": "stream",
     "text": [
      "Westminster\n",
      "Camden\n",
      "Southwark\n",
      "Westminster\n",
      "11\n",
      "Camden\n",
      "6\n",
      "Southwark\n",
      "9\n",
      "{'borough': 'Westminster', 'city': 'London', 'temperature': 5, 'country': 'England'}\n",
      "{'borough': 'Camden', 'city': 'London', 'temperature': 5, 'country': 'England'}\n",
      "{'borough': 'Southwark', 'city': 'London', 'temperature': 5, 'country': 'England'}\n"
     ]
    }
   ],
   "source": [
    "\n",
    "boroughs = [\"Westminster\", \"Camden\", \"Southwark\"]\n",
    "\n",
    "## Now loop over the counties, printing each one.\n",
    "for i in boroughs:\n",
    "  print(i)\n",
    "\n",
    "\n",
    "## Now loop over the counties, printing each one, and calculating their length, and printing this out\n",
    "for i in boroughs:\n",
    "  print(i)\n",
    "  y = len(i)\n",
    "  print(y)\n",
    "\n",
    "## Now loop over the counties, printing each one.\n",
    "for i in boroughs:\n",
    "  x['borough'] = i\n",
    "  print(x)\n",
    "\n"
   ]
  },
  {
   "cell_type": "markdown",
   "metadata": {},
   "source": [
    "# Building charts with loops"
   ]
  },
  {
   "cell_type": "markdown",
   "metadata": {},
   "source": [
    "<br>\n",
    "<br>\n",
    "\n",
    "### Access a chart specification that I like\n",
    "\n",
    "Suppose that you see a chart you like on the library page of our website. https://rdeconomist.github.io/library.\n",
    "\n",
    "Here is a spec that we might want to use:\n",
    "https://github.com/RDeconomist/RDeconomist.github.io/blob/main/charts/library/chartLine0.json.\n",
    "\n",
    "Lets first get that onto our machines, and edit it.\n"
   ]
  },
  {
   "cell_type": "code",
   "execution_count": 11,
   "metadata": {},
   "outputs": [
    {
     "name": "stdout",
     "output_type": "stream",
     "text": [
      "{'$schema': 'https://vega.github.io/schema/vega-lite/v5.json', 'data': {'url': 'https://raw.githubusercontent.com/RDeconomist/RDeconomist.github.io/main/charts/library/ukProdOutPerWork.csv'}, 'title': {'text': 'UK Productivity 1960-2023'}, 'width': 300, 'height': 300, 'mark': {'type': 'line', 'color': 'red'}, 'encoding': {'x': {'field': 'Year', 'type': 'temporal'}, 'y': {'field': 'outputPerWorker', 'type': 'quantitative'}}}\n",
      "\n",
      "\n",
      "{\n",
      "    \"$schema\": \"https://vega.github.io/schema/vega-lite/v5.json\",\n",
      "    \"data\": {\n",
      "        \"url\": \"https://raw.githubusercontent.com/RDeconomist/RDeconomist.github.io/main/charts/library/ukProdOutPerWork.csv\"\n",
      "    },\n",
      "    \"title\": {\n",
      "        \"text\": \"UK Productivity 1960-2023\"\n",
      "    },\n",
      "    \"width\": 300,\n",
      "    \"height\": 300,\n",
      "    \"mark\": {\n",
      "        \"type\": \"line\",\n",
      "        \"color\": \"red\"\n",
      "    },\n",
      "    \"encoding\": {\n",
      "        \"x\": {\n",
      "            \"field\": \"Year\",\n",
      "            \"type\": \"temporal\"\n",
      "        },\n",
      "        \"y\": {\n",
      "            \"field\": \"outputPerWorker\",\n",
      "            \"type\": \"quantitative\"\n",
      "        }\n",
      "    }\n",
      "}\n"
     ]
    }
   ],
   "source": [
    "# 2.  ACCESSING AND EXAMINING MY CHART SPEC:\n",
    "\n",
    "## // Define my target URL (note that this is the RAW file)\n",
    "url = \"https://raw.githubusercontent.com/RDeconomist/RDeconomist.github.io/main/charts/library/chartLine0.json\"\n",
    "\n",
    "## // Get this\n",
    "chartSpec = requests.get(url).json()\n",
    "\n",
    "## // Now let's print it out, two different ways:\n",
    "\n",
    "## // First, just the data (no formatting)\n",
    "print(chartSpec)\n",
    "print('\\n')\n",
    "\n",
    "## // Convert to json [using json.dumps()] then print with formatting\n",
    "print(json.dumps(chartSpec, indent=4))"
   ]
  },
  {
   "cell_type": "markdown",
   "metadata": {},
   "source": [
    "<br>\n",
    "<br>\n",
    "\n",
    "### Editing the specification of a chart. Python Dictionaries\n",
    "\n",
    "Next, note that I can edit parts of a chart spec in Python. Following the steps that we have taken about, the variable we have is a Python \"dictionary\". Once dictionaries have been created we can edit them as we please. You can read about Python dictionaries [here](https://www.w3schools.com/python/python_dictionaries.asp)."
   ]
  },
  {
   "cell_type": "code",
   "execution_count": 12,
   "metadata": {},
   "outputs": [
    {
     "data": {
      "text/plain": [
       "{'url': 'https://raw.githubusercontent.com/RDeconomist/RDeconomist.github.io/main/charts/library/ukProdOutPerWork.csv'}"
      ]
     },
     "execution_count": 12,
     "metadata": {},
     "output_type": "execute_result"
    }
   ],
   "source": [
    "chartSpec['data']"
   ]
  },
  {
   "cell_type": "code",
   "execution_count": 13,
   "metadata": {},
   "outputs": [],
   "source": [
    "chartSpec['description'] = 'This is a line chart showing UK productivity'"
   ]
  },
  {
   "cell_type": "code",
   "execution_count": 14,
   "metadata": {},
   "outputs": [
    {
     "name": "stdout",
     "output_type": "stream",
     "text": [
      "300\n",
      "UK Productivity 1960-2023\n",
      "{\n",
      "  \"$schema\": \"https://vega.github.io/schema/vega-lite/v5.json\",\n",
      "  \"data\": {\n",
      "    \"url\": \"https://raw.githubusercontent.com/RDeconomist/RDeconomist.github.io/main/charts/library/ukProdOutPerWork.csv\"\n",
      "  },\n",
      "  \"title\": {\n",
      "    \"text\": \"I like Data\"\n",
      "  },\n",
      "  \"width\": 1000,\n",
      "  \"height\": 300,\n",
      "  \"mark\": {\n",
      "    \"type\": \"line\",\n",
      "    \"color\": \"red\"\n",
      "  },\n",
      "  \"encoding\": {\n",
      "    \"x\": {\n",
      "      \"field\": \"Year\",\n",
      "      \"type\": \"temporal\"\n",
      "    },\n",
      "    \"y\": {\n",
      "      \"field\": \"outputPerWorker\",\n",
      "      \"type\": \"quantitative\"\n",
      "    }\n",
      "  },\n",
      "  \"description\": \"This is a line chart showing UK productivity\"\n",
      "}\n"
     ]
    }
   ],
   "source": [
    "## Print the width of the chart:\n",
    "print(chartSpec[\"width\"])\n",
    "\n",
    "## Change the width of the chart to 500\n",
    "chartSpec[\"width\"] = 1000\n",
    "\n",
    "## Print the title of the chart:\n",
    "print(chartSpec[\"title\"][\"text\"])\n",
    "\n",
    "## Change the title of the chart:\n",
    "chartSpec[\"title\"][\"text\"] = \"I like Data\"\n",
    "\n",
    "## Print out our new Spec:\n",
    "print(json.dumps(chartSpec, indent=2))"
   ]
  },
  {
   "cell_type": "markdown",
   "metadata": {},
   "source": [
    "<br>\n",
    "<br>\n",
    "\n",
    "### API + Loop + Dictionary\n",
    "\n",
    "Combining three of the tools we have learned. In the code below there are two main steps.\n",
    "1. Prepare for the loop, by creatings a kind of \"shell\" dictionary (a simi complete chart spec) that needs some more information (the data source).\n",
    "2. Loop over the list of countries, creating an API link, inserting this into a chart spec, and visualise this."
   ]
  },
  {
   "cell_type": "code",
   "execution_count": 16,
   "metadata": {},
   "outputs": [
    {
     "name": "stdout",
     "output_type": "stream",
     "text": [
      "{\n",
      "  \"$schema\": \"https://vega.github.io/schema/vega-lite/v5.json\",\n",
      "  \"data\": {\n",
      "    \"url\": \"XYZ\"\n",
      "  },\n",
      "  \"title\": {\n",
      "    \"text\": \"Unemployment\"\n",
      "  },\n",
      "  \"width\": 300,\n",
      "  \"height\": 300,\n",
      "  \"mark\": {\n",
      "    \"type\": \"line\",\n",
      "    \"color\": \"red\"\n",
      "  },\n",
      "  \"encoding\": {\n",
      "    \"x\": {\n",
      "      \"field\": \"date\",\n",
      "      \"type\": \"temporal\"\n",
      "    },\n",
      "    \"y\": {\n",
      "      \"field\": \"value\",\n",
      "      \"type\": \"quantitative\"\n",
      "    }\n",
      "  }\n",
      "}\n"
     ]
    }
   ],
   "source": [
    "### PREPARING OUR BASE SPEC\n",
    "\n",
    "# // Get out base spec (as above)\n",
    "url = \"https://raw.githubusercontent.com/RDeconomist/RDeconomist.github.io/main/charts/library/chartLine0.json\"\n",
    "base_spec = requests.get(url).json()\n",
    "\n",
    "# // Now since all of our work is going to be on unemployment, we need to change the base spec:\n",
    "base_spec['title']['text'] = \"Unemployment\"\n",
    "base_spec['encoding']['x']['field'] = 'date'\n",
    "base_spec['encoding']['y']['field'] = 'value'\n",
    "base_spec['data']['url'] = 'XYZ'\n",
    "\n",
    "# // Print out our new Spec:\n",
    "print(json.dumps(base_spec, indent=2))\n"
   ]
  },
  {
   "cell_type": "markdown",
   "metadata": {},
   "source": [
    "With that preparation in place we can run our loop:"
   ]
  },
  {
   "cell_type": "code",
   "execution_count": 17,
   "metadata": {},
   "outputs": [
    {
     "data": {
      "text/html": [
       "\n",
       "<style>\n",
       "  #altair-viz-db236d62fbb94a48b0cba71de9b733de.vega-embed {\n",
       "    width: 100%;\n",
       "    display: flex;\n",
       "  }\n",
       "\n",
       "  #altair-viz-db236d62fbb94a48b0cba71de9b733de.vega-embed details,\n",
       "  #altair-viz-db236d62fbb94a48b0cba71de9b733de.vega-embed details summary {\n",
       "    position: relative;\n",
       "  }\n",
       "</style>\n",
       "<div id=\"altair-viz-db236d62fbb94a48b0cba71de9b733de\"></div>\n",
       "<script type=\"text/javascript\">\n",
       "  var VEGA_DEBUG = (typeof VEGA_DEBUG == \"undefined\") ? {} : VEGA_DEBUG;\n",
       "  (function(spec, embedOpt){\n",
       "    let outputDiv = document.currentScript.previousElementSibling;\n",
       "    if (outputDiv.id !== \"altair-viz-db236d62fbb94a48b0cba71de9b733de\") {\n",
       "      outputDiv = document.getElementById(\"altair-viz-db236d62fbb94a48b0cba71de9b733de\");\n",
       "    }\n",
       "    const paths = {\n",
       "      \"vega\": \"https://cdn.jsdelivr.net/npm/vega@5?noext\",\n",
       "      \"vega-lib\": \"https://cdn.jsdelivr.net/npm/vega-lib?noext\",\n",
       "      \"vega-lite\": \"https://cdn.jsdelivr.net/npm/vega-lite@5.8.0?noext\",\n",
       "      \"vega-embed\": \"https://cdn.jsdelivr.net/npm/vega-embed@6?noext\",\n",
       "    };\n",
       "\n",
       "    function maybeLoadScript(lib, version) {\n",
       "      var key = `${lib.replace(\"-\", \"\")}_version`;\n",
       "      return (VEGA_DEBUG[key] == version) ?\n",
       "        Promise.resolve(paths[lib]) :\n",
       "        new Promise(function(resolve, reject) {\n",
       "          var s = document.createElement('script');\n",
       "          document.getElementsByTagName(\"head\")[0].appendChild(s);\n",
       "          s.async = true;\n",
       "          s.onload = () => {\n",
       "            VEGA_DEBUG[key] = version;\n",
       "            return resolve(paths[lib]);\n",
       "          };\n",
       "          s.onerror = () => reject(`Error loading script: ${paths[lib]}`);\n",
       "          s.src = paths[lib];\n",
       "        });\n",
       "    }\n",
       "\n",
       "    function showError(err) {\n",
       "      outputDiv.innerHTML = `<div class=\"error\" style=\"color:red;\">${err}</div>`;\n",
       "      throw err;\n",
       "    }\n",
       "\n",
       "    function displayChart(vegaEmbed) {\n",
       "      vegaEmbed(outputDiv, spec, embedOpt)\n",
       "        .catch(err => showError(`Javascript Error: ${err.message}<br>This usually means there's a typo in your chart specification. See the javascript console for the full traceback.`));\n",
       "    }\n",
       "\n",
       "    if(typeof define === \"function\" && define.amd) {\n",
       "      requirejs.config({paths});\n",
       "      require([\"vega-embed\"], displayChart, err => showError(`Error loading script: ${err.message}`));\n",
       "    } else {\n",
       "      maybeLoadScript(\"vega\", \"5\")\n",
       "        .then(() => maybeLoadScript(\"vega-lite\", \"5.8.0\"))\n",
       "        .then(() => maybeLoadScript(\"vega-embed\", \"6\"))\n",
       "        .catch(showError)\n",
       "        .then(() => displayChart(vegaEmbed));\n",
       "    }\n",
       "  })({\"config\": {\"view\": {\"continuousWidth\": 300, \"continuousHeight\": 300}}, \"data\": {\"url\": \"https://api.economicsobservatory.com/gbr/unem?vega\"}, \"mark\": {\"type\": \"line\", \"color\": \"red\"}, \"encoding\": {\"x\": {\"field\": \"date\", \"type\": \"temporal\"}, \"y\": {\"field\": \"value\", \"type\": \"quantitative\"}}, \"height\": 300, \"title\": {\"text\": \"Unemployment\", \"subtitle\": \"gbr\"}, \"width\": 300, \"$schema\": \"https://vega.github.io/schema/vega-lite/v5.json\"}, {\"mode\": \"vega-lite\"});\n",
       "</script>"
      ],
      "text/plain": [
       "alt.Chart(...)"
      ]
     },
     "metadata": {},
     "output_type": "display_data"
    },
    {
     "data": {
      "text/html": [
       "\n",
       "<style>\n",
       "  #altair-viz-d05eeb9c939c461d8fe02d9aa3e60dae.vega-embed {\n",
       "    width: 100%;\n",
       "    display: flex;\n",
       "  }\n",
       "\n",
       "  #altair-viz-d05eeb9c939c461d8fe02d9aa3e60dae.vega-embed details,\n",
       "  #altair-viz-d05eeb9c939c461d8fe02d9aa3e60dae.vega-embed details summary {\n",
       "    position: relative;\n",
       "  }\n",
       "</style>\n",
       "<div id=\"altair-viz-d05eeb9c939c461d8fe02d9aa3e60dae\"></div>\n",
       "<script type=\"text/javascript\">\n",
       "  var VEGA_DEBUG = (typeof VEGA_DEBUG == \"undefined\") ? {} : VEGA_DEBUG;\n",
       "  (function(spec, embedOpt){\n",
       "    let outputDiv = document.currentScript.previousElementSibling;\n",
       "    if (outputDiv.id !== \"altair-viz-d05eeb9c939c461d8fe02d9aa3e60dae\") {\n",
       "      outputDiv = document.getElementById(\"altair-viz-d05eeb9c939c461d8fe02d9aa3e60dae\");\n",
       "    }\n",
       "    const paths = {\n",
       "      \"vega\": \"https://cdn.jsdelivr.net/npm/vega@5?noext\",\n",
       "      \"vega-lib\": \"https://cdn.jsdelivr.net/npm/vega-lib?noext\",\n",
       "      \"vega-lite\": \"https://cdn.jsdelivr.net/npm/vega-lite@5.8.0?noext\",\n",
       "      \"vega-embed\": \"https://cdn.jsdelivr.net/npm/vega-embed@6?noext\",\n",
       "    };\n",
       "\n",
       "    function maybeLoadScript(lib, version) {\n",
       "      var key = `${lib.replace(\"-\", \"\")}_version`;\n",
       "      return (VEGA_DEBUG[key] == version) ?\n",
       "        Promise.resolve(paths[lib]) :\n",
       "        new Promise(function(resolve, reject) {\n",
       "          var s = document.createElement('script');\n",
       "          document.getElementsByTagName(\"head\")[0].appendChild(s);\n",
       "          s.async = true;\n",
       "          s.onload = () => {\n",
       "            VEGA_DEBUG[key] = version;\n",
       "            return resolve(paths[lib]);\n",
       "          };\n",
       "          s.onerror = () => reject(`Error loading script: ${paths[lib]}`);\n",
       "          s.src = paths[lib];\n",
       "        });\n",
       "    }\n",
       "\n",
       "    function showError(err) {\n",
       "      outputDiv.innerHTML = `<div class=\"error\" style=\"color:red;\">${err}</div>`;\n",
       "      throw err;\n",
       "    }\n",
       "\n",
       "    function displayChart(vegaEmbed) {\n",
       "      vegaEmbed(outputDiv, spec, embedOpt)\n",
       "        .catch(err => showError(`Javascript Error: ${err.message}<br>This usually means there's a typo in your chart specification. See the javascript console for the full traceback.`));\n",
       "    }\n",
       "\n",
       "    if(typeof define === \"function\" && define.amd) {\n",
       "      requirejs.config({paths});\n",
       "      require([\"vega-embed\"], displayChart, err => showError(`Error loading script: ${err.message}`));\n",
       "    } else {\n",
       "      maybeLoadScript(\"vega\", \"5\")\n",
       "        .then(() => maybeLoadScript(\"vega-lite\", \"5.8.0\"))\n",
       "        .then(() => maybeLoadScript(\"vega-embed\", \"6\"))\n",
       "        .catch(showError)\n",
       "        .then(() => displayChart(vegaEmbed));\n",
       "    }\n",
       "  })({\"config\": {\"view\": {\"continuousWidth\": 300, \"continuousHeight\": 300}}, \"data\": {\"url\": \"https://api.economicsobservatory.com/usa/unem?vega\"}, \"mark\": {\"type\": \"line\", \"color\": \"red\"}, \"encoding\": {\"x\": {\"field\": \"date\", \"type\": \"temporal\"}, \"y\": {\"field\": \"value\", \"type\": \"quantitative\"}}, \"height\": 300, \"title\": {\"text\": \"Unemployment\", \"subtitle\": \"usa\"}, \"width\": 300, \"$schema\": \"https://vega.github.io/schema/vega-lite/v5.json\"}, {\"mode\": \"vega-lite\"});\n",
       "</script>"
      ],
      "text/plain": [
       "alt.Chart(...)"
      ]
     },
     "metadata": {},
     "output_type": "display_data"
    },
    {
     "data": {
      "text/html": [
       "\n",
       "<style>\n",
       "  #altair-viz-be8876dee90b4ac48ac2c1026713c97b.vega-embed {\n",
       "    width: 100%;\n",
       "    display: flex;\n",
       "  }\n",
       "\n",
       "  #altair-viz-be8876dee90b4ac48ac2c1026713c97b.vega-embed details,\n",
       "  #altair-viz-be8876dee90b4ac48ac2c1026713c97b.vega-embed details summary {\n",
       "    position: relative;\n",
       "  }\n",
       "</style>\n",
       "<div id=\"altair-viz-be8876dee90b4ac48ac2c1026713c97b\"></div>\n",
       "<script type=\"text/javascript\">\n",
       "  var VEGA_DEBUG = (typeof VEGA_DEBUG == \"undefined\") ? {} : VEGA_DEBUG;\n",
       "  (function(spec, embedOpt){\n",
       "    let outputDiv = document.currentScript.previousElementSibling;\n",
       "    if (outputDiv.id !== \"altair-viz-be8876dee90b4ac48ac2c1026713c97b\") {\n",
       "      outputDiv = document.getElementById(\"altair-viz-be8876dee90b4ac48ac2c1026713c97b\");\n",
       "    }\n",
       "    const paths = {\n",
       "      \"vega\": \"https://cdn.jsdelivr.net/npm/vega@5?noext\",\n",
       "      \"vega-lib\": \"https://cdn.jsdelivr.net/npm/vega-lib?noext\",\n",
       "      \"vega-lite\": \"https://cdn.jsdelivr.net/npm/vega-lite@5.8.0?noext\",\n",
       "      \"vega-embed\": \"https://cdn.jsdelivr.net/npm/vega-embed@6?noext\",\n",
       "    };\n",
       "\n",
       "    function maybeLoadScript(lib, version) {\n",
       "      var key = `${lib.replace(\"-\", \"\")}_version`;\n",
       "      return (VEGA_DEBUG[key] == version) ?\n",
       "        Promise.resolve(paths[lib]) :\n",
       "        new Promise(function(resolve, reject) {\n",
       "          var s = document.createElement('script');\n",
       "          document.getElementsByTagName(\"head\")[0].appendChild(s);\n",
       "          s.async = true;\n",
       "          s.onload = () => {\n",
       "            VEGA_DEBUG[key] = version;\n",
       "            return resolve(paths[lib]);\n",
       "          };\n",
       "          s.onerror = () => reject(`Error loading script: ${paths[lib]}`);\n",
       "          s.src = paths[lib];\n",
       "        });\n",
       "    }\n",
       "\n",
       "    function showError(err) {\n",
       "      outputDiv.innerHTML = `<div class=\"error\" style=\"color:red;\">${err}</div>`;\n",
       "      throw err;\n",
       "    }\n",
       "\n",
       "    function displayChart(vegaEmbed) {\n",
       "      vegaEmbed(outputDiv, spec, embedOpt)\n",
       "        .catch(err => showError(`Javascript Error: ${err.message}<br>This usually means there's a typo in your chart specification. See the javascript console for the full traceback.`));\n",
       "    }\n",
       "\n",
       "    if(typeof define === \"function\" && define.amd) {\n",
       "      requirejs.config({paths});\n",
       "      require([\"vega-embed\"], displayChart, err => showError(`Error loading script: ${err.message}`));\n",
       "    } else {\n",
       "      maybeLoadScript(\"vega\", \"5\")\n",
       "        .then(() => maybeLoadScript(\"vega-lite\", \"5.8.0\"))\n",
       "        .then(() => maybeLoadScript(\"vega-embed\", \"6\"))\n",
       "        .catch(showError)\n",
       "        .then(() => displayChart(vegaEmbed));\n",
       "    }\n",
       "  })({\"config\": {\"view\": {\"continuousWidth\": 300, \"continuousHeight\": 300}}, \"data\": {\"url\": \"https://api.economicsobservatory.com/can/unem?vega\"}, \"mark\": {\"type\": \"line\", \"color\": \"red\"}, \"encoding\": {\"x\": {\"field\": \"date\", \"type\": \"temporal\"}, \"y\": {\"field\": \"value\", \"type\": \"quantitative\"}}, \"height\": 300, \"title\": {\"text\": \"Unemployment\", \"subtitle\": \"can\"}, \"width\": 300, \"$schema\": \"https://vega.github.io/schema/vega-lite/v5.json\"}, {\"mode\": \"vega-lite\"});\n",
       "</script>"
      ],
      "text/plain": [
       "alt.Chart(...)"
      ]
     },
     "metadata": {},
     "output_type": "display_data"
    },
    {
     "data": {
      "text/html": [
       "\n",
       "<style>\n",
       "  #altair-viz-465cd29ea772480ab62679e6ab66e454.vega-embed {\n",
       "    width: 100%;\n",
       "    display: flex;\n",
       "  }\n",
       "\n",
       "  #altair-viz-465cd29ea772480ab62679e6ab66e454.vega-embed details,\n",
       "  #altair-viz-465cd29ea772480ab62679e6ab66e454.vega-embed details summary {\n",
       "    position: relative;\n",
       "  }\n",
       "</style>\n",
       "<div id=\"altair-viz-465cd29ea772480ab62679e6ab66e454\"></div>\n",
       "<script type=\"text/javascript\">\n",
       "  var VEGA_DEBUG = (typeof VEGA_DEBUG == \"undefined\") ? {} : VEGA_DEBUG;\n",
       "  (function(spec, embedOpt){\n",
       "    let outputDiv = document.currentScript.previousElementSibling;\n",
       "    if (outputDiv.id !== \"altair-viz-465cd29ea772480ab62679e6ab66e454\") {\n",
       "      outputDiv = document.getElementById(\"altair-viz-465cd29ea772480ab62679e6ab66e454\");\n",
       "    }\n",
       "    const paths = {\n",
       "      \"vega\": \"https://cdn.jsdelivr.net/npm/vega@5?noext\",\n",
       "      \"vega-lib\": \"https://cdn.jsdelivr.net/npm/vega-lib?noext\",\n",
       "      \"vega-lite\": \"https://cdn.jsdelivr.net/npm/vega-lite@5.8.0?noext\",\n",
       "      \"vega-embed\": \"https://cdn.jsdelivr.net/npm/vega-embed@6?noext\",\n",
       "    };\n",
       "\n",
       "    function maybeLoadScript(lib, version) {\n",
       "      var key = `${lib.replace(\"-\", \"\")}_version`;\n",
       "      return (VEGA_DEBUG[key] == version) ?\n",
       "        Promise.resolve(paths[lib]) :\n",
       "        new Promise(function(resolve, reject) {\n",
       "          var s = document.createElement('script');\n",
       "          document.getElementsByTagName(\"head\")[0].appendChild(s);\n",
       "          s.async = true;\n",
       "          s.onload = () => {\n",
       "            VEGA_DEBUG[key] = version;\n",
       "            return resolve(paths[lib]);\n",
       "          };\n",
       "          s.onerror = () => reject(`Error loading script: ${paths[lib]}`);\n",
       "          s.src = paths[lib];\n",
       "        });\n",
       "    }\n",
       "\n",
       "    function showError(err) {\n",
       "      outputDiv.innerHTML = `<div class=\"error\" style=\"color:red;\">${err}</div>`;\n",
       "      throw err;\n",
       "    }\n",
       "\n",
       "    function displayChart(vegaEmbed) {\n",
       "      vegaEmbed(outputDiv, spec, embedOpt)\n",
       "        .catch(err => showError(`Javascript Error: ${err.message}<br>This usually means there's a typo in your chart specification. See the javascript console for the full traceback.`));\n",
       "    }\n",
       "\n",
       "    if(typeof define === \"function\" && define.amd) {\n",
       "      requirejs.config({paths});\n",
       "      require([\"vega-embed\"], displayChart, err => showError(`Error loading script: ${err.message}`));\n",
       "    } else {\n",
       "      maybeLoadScript(\"vega\", \"5\")\n",
       "        .then(() => maybeLoadScript(\"vega-lite\", \"5.8.0\"))\n",
       "        .then(() => maybeLoadScript(\"vega-embed\", \"6\"))\n",
       "        .catch(showError)\n",
       "        .then(() => displayChart(vegaEmbed));\n",
       "    }\n",
       "  })({\"config\": {\"view\": {\"continuousWidth\": 300, \"continuousHeight\": 300}}, \"data\": {\"url\": \"https://api.economicsobservatory.com/egy/unem?vega\"}, \"mark\": {\"type\": \"line\", \"color\": \"red\"}, \"encoding\": {\"x\": {\"field\": \"date\", \"type\": \"temporal\"}, \"y\": {\"field\": \"value\", \"type\": \"quantitative\"}}, \"height\": 300, \"title\": {\"text\": \"Unemployment\", \"subtitle\": \"egy\"}, \"width\": 300, \"$schema\": \"https://vega.github.io/schema/vega-lite/v5.json\"}, {\"mode\": \"vega-lite\"});\n",
       "</script>"
      ],
      "text/plain": [
       "alt.Chart(...)"
      ]
     },
     "metadata": {},
     "output_type": "display_data"
    }
   ],
   "source": [
    "### RUNNING OUR LOOP\n",
    "\n",
    "# // Define our base url with the {} placeholder for the country code.\n",
    "base_api = 'https://api.economicsobservatory.com/{}/unem?vega'\n",
    "\n",
    "# // Create a list of countries we want to get data for:\n",
    "countries = ['gbr', 'usa', 'can', 'egy']\n",
    "\n",
    "for i in countries:\n",
    "  \n",
    "  ## Build the api that we want to use:\n",
    "  apiToUse = base_api.format(i)\n",
    "  # print(apiToUse)\n",
    "\n",
    "  ## Now build the chart spec:\n",
    "  base_spec['data']['url'] = apiToUse\n",
    "  base_spec['title']['subtitle'] = i\n",
    "\n",
    "  # /// Turn the spec into JSON\n",
    "  specJSON = json.dumps(base_spec)\n",
    "\n",
    "  # /// Turn the json into an Altair chart and display it:\n",
    "  new_chart = alt.Chart.from_json(specJSON)\n",
    "  new_chart.display()\n"
   ]
  },
  {
   "cell_type": "code",
   "execution_count": null,
   "metadata": {},
   "outputs": [],
   "source": []
  }
 ],
 "metadata": {
  "kernelspec": {
   "display_name": "base",
   "language": "python",
   "name": "python3"
  },
  "language_info": {
   "codemirror_mode": {
    "name": "ipython",
    "version": 3
   },
   "file_extension": ".py",
   "mimetype": "text/x-python",
   "name": "python",
   "nbconvert_exporter": "python",
   "pygments_lexer": "ipython3",
   "version": "3.11.4"
  }
 },
 "nbformat": 4,
 "nbformat_minor": 2
}
