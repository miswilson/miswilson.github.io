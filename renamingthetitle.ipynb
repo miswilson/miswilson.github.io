{
 "cells": [
  {
   "cell_type": "code",
   "execution_count": 1,
   "metadata": {},
   "outputs": [
    {
     "name": "stdout",
     "output_type": "stream",
     "text": [
      "   year Continent  Value\n",
      "0  1997    Africa   10.0\n",
      "1  1998    Africa   11.0\n",
      "2  1999    Africa   11.0\n",
      "3  2000    Africa   12.0\n",
      "4  2001    Africa   12.0\n"
     ]
    }
   ],
   "source": [
    "import pandas as pd\n",
    "\n",
    "# Define the URL\n",
    "url = \"https://raw.githubusercontent.com/miswilson/miswilson.github.io/refs/heads/main/renamed_fem_par_long.csv\"\n",
    "\n",
    "# Load the CSV data into a DataFrame\n",
    "try:\n",
    "    data = pd.read_csv(url)\n",
    "    # Rename the column \"Entity\" to \"Continent\"\n",
    "    data.rename(columns={\"Entity\": \"Continent\"}, inplace=True)\n",
    "    # Display the first few rows of the updated DataFrame\n",
    "    print(data.head())\n",
    "except Exception as e:\n",
    "    print(f\"An error occurred: {e}\")\n"
   ]
  },
  {
   "cell_type": "code",
   "execution_count": 2,
   "metadata": {},
   "outputs": [],
   "source": [
    "data.to_csv('longdata_womenparliment.csv', index=False)"
   ]
  }
 ],
 "metadata": {
  "kernelspec": {
   "display_name": "base",
   "language": "python",
   "name": "python3"
  },
  "language_info": {
   "codemirror_mode": {
    "name": "ipython",
    "version": 3
   },
   "file_extension": ".py",
   "mimetype": "text/x-python",
   "name": "python",
   "nbconvert_exporter": "python",
   "pygments_lexer": "ipython3",
   "version": "3.12.2"
  }
 },
 "nbformat": 4,
 "nbformat_minor": 2
}
