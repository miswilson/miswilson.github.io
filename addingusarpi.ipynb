{
 "cells": [
  {
   "cell_type": "code",
   "execution_count": 8,
   "metadata": {},
   "outputs": [
    {
     "name": "stdout",
     "output_type": "stream",
     "text": [
      "RPI UK Columns: Index(['year', 'unit'], dtype='object')\n",
      "CPIAUCNS Columns: Index(['DATE', 'CPIAUCNS_PC1'], dtype='object')\n",
      "Empty DataFrame\n",
      "Columns: [year, unit, CPIAUCNS_PC1]\n",
      "Index: []\n"
     ]
    }
   ],
   "source": [
    "import pandas as pd\n",
    "\n",
    "# Load the datasets\n",
    "rpi_uk = pd.read_csv(\"https://raw.githubusercontent.com/miswilson/miswilson.github.io/refs/heads/main/rpi_uk_1900.csv\")\n",
    "cpiaucns = pd.read_csv(\"https://raw.githubusercontent.com/miswilson/miswilson.github.io/refs/heads/main/CPIAUCNS%20(1).csv\")\n",
    "\n",
    "# Inspect the datasets to understand their structures\n",
    "print(\"RPI UK Columns:\", rpi_uk.columns)\n",
    "print(\"CPIAUCNS Columns:\", cpiaucns.columns)\n",
    "\n",
    "# Ensure the date or year columns match in format (assume they have a 'year' column)\n",
    "rpi_uk['year'] = pd.to_datetime(rpi_uk['year'])\n",
    "cpiaucns['DATE'] = pd.to_datetime(cpiaucns['DATE'])\n",
    "\n",
    "# Rename CPIAUCNS columns to match the RPI UK dataset naming convention\n",
    "cpiaucns.rename(columns={'DATE': 'year', 'CPIAUCNS': 'cpi_unit'}, inplace=True)\n",
    "\n",
    "# Merge the datasets on the 'year' column\n",
    "merged_df = pd.merge(rpi_uk, cpiaucns, on='year', how='inner')\n",
    "\n",
    "# Display the merged DataFrame\n",
    "print(merged_df.head())\n"
   ]
  },
  {
   "cell_type": "code",
   "execution_count": 9,
   "metadata": {},
   "outputs": [
    {
     "name": "stdout",
     "output_type": "stream",
     "text": [
      "File saved as 'merged_rpi_cpi.csv'\n"
     ]
    }
   ],
   "source": [
    "# Save the merged DataFrame to a CSV file\n",
    "merged_df.to_csv('merged_rpi_cpi.csv', index=False)\n",
    "\n",
    "print(\"File saved as 'merged_rpi_cpi.csv'\")"
   ]
  }
 ],
 "metadata": {
  "kernelspec": {
   "display_name": "base",
   "language": "python",
   "name": "python3"
  },
  "language_info": {
   "codemirror_mode": {
    "name": "ipython",
    "version": 3
   },
   "file_extension": ".py",
   "mimetype": "text/x-python",
   "name": "python",
   "nbconvert_exporter": "python",
   "pygments_lexer": "ipython3",
   "version": "3.12.2"
  }
 },
 "nbformat": 4,
 "nbformat_minor": 2
}
